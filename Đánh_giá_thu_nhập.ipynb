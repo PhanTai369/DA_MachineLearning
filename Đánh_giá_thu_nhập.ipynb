{
  "cells": [
    {
      "cell_type": "code",
      "execution_count": 778,
      "metadata": {
        "id": "CYq7WsK_SGqF"
      },
      "outputs": [],
      "source": [
        "import seaborn as sns  # Nhập thư viện seaborn, thư viện này được sử dụng để tạo ra các biểu đồ thống kê đẹp mắt.\n",
        "import matplotlib.pyplot as plt  # Nhập thư viện matplotlib.pyplot, một thư viện cho việc vẽ biểu đồ 2D.\n",
        "%matplotlib inline\n",
        "import numpy as np  # Nhập thư viện NumPy, thư viện này cung cấp các công cụ cho toán học và đại số tuyến tính.\n",
        "import pandas as pd  # Nhập thư viện pandas, thư viện này dùng để xử lý và phân tích dữ liệu.\n",
        "from sklearn.model_selection import train_test_split\n",
        "from sklearn.preprocessing import RobustScaler, OneHotEncoder\n",
        "from sklearn.compose import ColumnTransformer\n",
        "from sklearn.ensemble import RandomForestClassifier\n",
        "from sklearn.metrics import accuracy_score, confusion_matrix\n",
        "\n",
        "data = 'income_evaluation.csv'\n",
        "df = pd.read_csv(data)  # Đọc file CSV\n"
      ]
    },
    {
      "cell_type": "code",
      "execution_count": 779,
      "metadata": {
        "colab": {
          "base_uri": "https://localhost:8080/"
        },
        "id": "5TrTUhipSzhU",
        "outputId": "a01e4d22-2256-4883-ab1a-7231278cda02"
      },
      "outputs": [
        {
          "name": "stdout",
          "output_type": "stream",
          "text": [
            "Kích thước của tập dữ liệu :  (32561, 15)\n"
          ]
        }
      ],
      "source": [
        "print('Kích thước của tập dữ liệu : ', df.shape)  # In ra kích thước của DataFrame df\n"
      ]
    },
    {
      "cell_type": "code",
      "execution_count": 780,
      "metadata": {
        "colab": {
          "base_uri": "https://localhost:8080/",
          "height": 399
        },
        "id": "NmHyrzK3Sn8y",
        "outputId": "50f12ada-bc51-4533-cd90-28fc640d85c6"
      },
      "outputs": [
        {
          "data": {
            "text/html": [
              "<div>\n",
              "<style scoped>\n",
              "    .dataframe tbody tr th:only-of-type {\n",
              "        vertical-align: middle;\n",
              "    }\n",
              "\n",
              "    .dataframe tbody tr th {\n",
              "        vertical-align: top;\n",
              "    }\n",
              "\n",
              "    .dataframe thead th {\n",
              "        text-align: right;\n",
              "    }\n",
              "</style>\n",
              "<table border=\"1\" class=\"dataframe\">\n",
              "  <thead>\n",
              "    <tr style=\"text-align: right;\">\n",
              "      <th></th>\n",
              "      <th>age</th>\n",
              "      <th>workclass</th>\n",
              "      <th>fnlwgt</th>\n",
              "      <th>education</th>\n",
              "      <th>education-num</th>\n",
              "      <th>marital-status</th>\n",
              "      <th>occupation</th>\n",
              "      <th>relationship</th>\n",
              "      <th>race</th>\n",
              "      <th>sex</th>\n",
              "      <th>capital-gain</th>\n",
              "      <th>capital-loss</th>\n",
              "      <th>hours-per-week</th>\n",
              "      <th>native-country</th>\n",
              "      <th>income</th>\n",
              "    </tr>\n",
              "  </thead>\n",
              "  <tbody>\n",
              "    <tr>\n",
              "      <th>0</th>\n",
              "      <td>39</td>\n",
              "      <td>State-gov</td>\n",
              "      <td>77516</td>\n",
              "      <td>Bachelors</td>\n",
              "      <td>13</td>\n",
              "      <td>Never-married</td>\n",
              "      <td>Adm-clerical</td>\n",
              "      <td>Not-in-family</td>\n",
              "      <td>White</td>\n",
              "      <td>Male</td>\n",
              "      <td>2174</td>\n",
              "      <td>0</td>\n",
              "      <td>40</td>\n",
              "      <td>United-States</td>\n",
              "      <td>&lt;=50K</td>\n",
              "    </tr>\n",
              "    <tr>\n",
              "      <th>1</th>\n",
              "      <td>50</td>\n",
              "      <td>Self-emp-not-inc</td>\n",
              "      <td>83311</td>\n",
              "      <td>Bachelors</td>\n",
              "      <td>13</td>\n",
              "      <td>Married-civ-spouse</td>\n",
              "      <td>Exec-managerial</td>\n",
              "      <td>Husband</td>\n",
              "      <td>White</td>\n",
              "      <td>Male</td>\n",
              "      <td>0</td>\n",
              "      <td>0</td>\n",
              "      <td>13</td>\n",
              "      <td>United-States</td>\n",
              "      <td>&lt;=50K</td>\n",
              "    </tr>\n",
              "    <tr>\n",
              "      <th>2</th>\n",
              "      <td>38</td>\n",
              "      <td>Private</td>\n",
              "      <td>215646</td>\n",
              "      <td>HS-grad</td>\n",
              "      <td>9</td>\n",
              "      <td>Divorced</td>\n",
              "      <td>Handlers-cleaners</td>\n",
              "      <td>Not-in-family</td>\n",
              "      <td>White</td>\n",
              "      <td>Male</td>\n",
              "      <td>0</td>\n",
              "      <td>0</td>\n",
              "      <td>40</td>\n",
              "      <td>United-States</td>\n",
              "      <td>&lt;=50K</td>\n",
              "    </tr>\n",
              "    <tr>\n",
              "      <th>3</th>\n",
              "      <td>53</td>\n",
              "      <td>Private</td>\n",
              "      <td>234721</td>\n",
              "      <td>11th</td>\n",
              "      <td>7</td>\n",
              "      <td>Married-civ-spouse</td>\n",
              "      <td>Handlers-cleaners</td>\n",
              "      <td>Husband</td>\n",
              "      <td>Black</td>\n",
              "      <td>Male</td>\n",
              "      <td>0</td>\n",
              "      <td>0</td>\n",
              "      <td>40</td>\n",
              "      <td>United-States</td>\n",
              "      <td>&lt;=50K</td>\n",
              "    </tr>\n",
              "    <tr>\n",
              "      <th>4</th>\n",
              "      <td>28</td>\n",
              "      <td>Private</td>\n",
              "      <td>338409</td>\n",
              "      <td>Bachelors</td>\n",
              "      <td>13</td>\n",
              "      <td>Married-civ-spouse</td>\n",
              "      <td>Prof-specialty</td>\n",
              "      <td>Wife</td>\n",
              "      <td>Black</td>\n",
              "      <td>Female</td>\n",
              "      <td>0</td>\n",
              "      <td>0</td>\n",
              "      <td>40</td>\n",
              "      <td>Cuba</td>\n",
              "      <td>&lt;=50K</td>\n",
              "    </tr>\n",
              "  </tbody>\n",
              "</table>\n",
              "</div>"
            ],
            "text/plain": [
              "   age          workclass   fnlwgt   education   education-num  \\\n",
              "0   39          State-gov    77516   Bachelors              13   \n",
              "1   50   Self-emp-not-inc    83311   Bachelors              13   \n",
              "2   38            Private   215646     HS-grad               9   \n",
              "3   53            Private   234721        11th               7   \n",
              "4   28            Private   338409   Bachelors              13   \n",
              "\n",
              "        marital-status          occupation    relationship    race      sex  \\\n",
              "0        Never-married        Adm-clerical   Not-in-family   White     Male   \n",
              "1   Married-civ-spouse     Exec-managerial         Husband   White     Male   \n",
              "2             Divorced   Handlers-cleaners   Not-in-family   White     Male   \n",
              "3   Married-civ-spouse   Handlers-cleaners         Husband   Black     Male   \n",
              "4   Married-civ-spouse      Prof-specialty            Wife   Black   Female   \n",
              "\n",
              "    capital-gain   capital-loss   hours-per-week  native-country  income  \n",
              "0           2174              0               40   United-States   <=50K  \n",
              "1              0              0               13   United-States   <=50K  \n",
              "2              0              0               40   United-States   <=50K  \n",
              "3              0              0               40   United-States   <=50K  \n",
              "4              0              0               40            Cuba   <=50K  "
            ]
          },
          "execution_count": 780,
          "metadata": {},
          "output_type": "execute_result"
        }
      ],
      "source": [
        "df.head()  # Hiển thị 5 dòng đầu tiên của DataFrame df\n"
      ]
    },
    {
      "cell_type": "code",
      "execution_count": 781,
      "metadata": {
        "colab": {
          "base_uri": "https://localhost:8080/"
        },
        "id": "JkyasVU6Sv-X",
        "outputId": "2c231695-bfc3-477d-fbfe-81df211d67fd"
      },
      "outputs": [
        {
          "data": {
            "text/plain": [
              "Index(['age', 'workclass', 'fnlwgt', 'education', 'education_num',\n",
              "       'marital_status', 'occupation', 'relationship', 'race', 'sex',\n",
              "       'capital_gain', 'capital_loss', 'hours_per_week', 'native_country',\n",
              "       'income'],\n",
              "      dtype='object')"
            ]
          },
          "execution_count": 781,
          "metadata": {},
          "output_type": "execute_result"
        }
      ],
      "source": [
        "col_names = ['age', 'workclass', 'fnlwgt', 'education', 'education_num', 'marital_status', 'occupation', 'relationship',\n",
        "             'race', 'sex', 'capital_gain', 'capital_loss', 'hours_per_week', 'native_country', 'income']\n",
        "\n",
        "df.columns = col_names  # Gán lại tên các cột cho DataFrame df\n",
        "\n",
        "df.columns  # Hiển thị tên các cột hiện tại\n"
      ]
    },
    {
      "cell_type": "code",
      "execution_count": 782,
      "metadata": {
        "colab": {
          "base_uri": "https://localhost:8080/"
        },
        "id": "ye5OQOk3T5BR",
        "outputId": "dabe9952-0b30-4fbe-ca41-aa57f45e97ab"
      },
      "outputs": [
        {
          "name": "stdout",
          "output_type": "stream",
          "text": [
            "<class 'pandas.core.frame.DataFrame'>\n",
            "RangeIndex: 32561 entries, 0 to 32560\n",
            "Data columns (total 15 columns):\n",
            " #   Column          Non-Null Count  Dtype \n",
            "---  ------          --------------  ----- \n",
            " 0   age             32561 non-null  int64 \n",
            " 1   workclass       32561 non-null  object\n",
            " 2   fnlwgt          32561 non-null  int64 \n",
            " 3   education       32561 non-null  object\n",
            " 4   education_num   32561 non-null  int64 \n",
            " 5   marital_status  32561 non-null  object\n",
            " 6   occupation      32561 non-null  object\n",
            " 7   relationship    32561 non-null  object\n",
            " 8   race            32561 non-null  object\n",
            " 9   sex             32561 non-null  object\n",
            " 10  capital_gain    32561 non-null  int64 \n",
            " 11  capital_loss    32561 non-null  int64 \n",
            " 12  hours_per_week  32561 non-null  int64 \n",
            " 13  native_country  32561 non-null  object\n",
            " 14  income          32561 non-null  object\n",
            "dtypes: int64(6), object(9)\n",
            "memory usage: 3.7+ MB\n"
          ]
        }
      ],
      "source": [
        "df.info()  # Hiển thị thông tin chi tiết về DataFrame df, bao gồm số lượng bản ghi, loại dữ liệu của từng cột và số giá trị không null trong mỗi cột.\n"
      ]
    },
    {
      "cell_type": "code",
      "execution_count": 783,
      "metadata": {
        "colab": {
          "base_uri": "https://localhost:8080/",
          "height": 554
        },
        "id": "G8dwuk-IT-m0",
        "outputId": "d543f3ed-3675-4faf-b43e-f5ba189c31d1"
      },
      "outputs": [
        {
          "data": {
            "text/plain": [
              "age                int64\n",
              "workclass         object\n",
              "fnlwgt             int64\n",
              "education         object\n",
              "education_num      int64\n",
              "marital_status    object\n",
              "occupation        object\n",
              "relationship      object\n",
              "race              object\n",
              "sex               object\n",
              "capital_gain       int64\n",
              "capital_loss       int64\n",
              "hours_per_week     int64\n",
              "native_country    object\n",
              "income            object\n",
              "dtype: object"
            ]
          },
          "execution_count": 783,
          "metadata": {},
          "output_type": "execute_result"
        }
      ],
      "source": [
        "df.dtypes  # Hiển thị kiểu dữ liệu của mỗi cột trong DataFrame df.\n"
      ]
    },
    {
      "cell_type": "code",
      "execution_count": 784,
      "metadata": {
        "colab": {
          "base_uri": "https://localhost:8080/",
          "height": 300
        },
        "id": "yn9yfVYHcKHb",
        "outputId": "8cd1670f-5eb3-4df1-fff2-a7182ceb79fb"
      },
      "outputs": [
        {
          "data": {
            "text/html": [
              "<div>\n",
              "<style scoped>\n",
              "    .dataframe tbody tr th:only-of-type {\n",
              "        vertical-align: middle;\n",
              "    }\n",
              "\n",
              "    .dataframe tbody tr th {\n",
              "        vertical-align: top;\n",
              "    }\n",
              "\n",
              "    .dataframe thead th {\n",
              "        text-align: right;\n",
              "    }\n",
              "</style>\n",
              "<table border=\"1\" class=\"dataframe\">\n",
              "  <thead>\n",
              "    <tr style=\"text-align: right;\">\n",
              "      <th></th>\n",
              "      <th>age</th>\n",
              "      <th>fnlwgt</th>\n",
              "      <th>education_num</th>\n",
              "      <th>capital_gain</th>\n",
              "      <th>capital_loss</th>\n",
              "      <th>hours_per_week</th>\n",
              "    </tr>\n",
              "  </thead>\n",
              "  <tbody>\n",
              "    <tr>\n",
              "      <th>count</th>\n",
              "      <td>32561.000000</td>\n",
              "      <td>3.256100e+04</td>\n",
              "      <td>32561.000000</td>\n",
              "      <td>32561.000000</td>\n",
              "      <td>32561.000000</td>\n",
              "      <td>32561.000000</td>\n",
              "    </tr>\n",
              "    <tr>\n",
              "      <th>mean</th>\n",
              "      <td>38.581647</td>\n",
              "      <td>1.897784e+05</td>\n",
              "      <td>10.080679</td>\n",
              "      <td>1077.648844</td>\n",
              "      <td>87.303830</td>\n",
              "      <td>40.437456</td>\n",
              "    </tr>\n",
              "    <tr>\n",
              "      <th>std</th>\n",
              "      <td>13.640433</td>\n",
              "      <td>1.055500e+05</td>\n",
              "      <td>2.572720</td>\n",
              "      <td>7385.292085</td>\n",
              "      <td>402.960219</td>\n",
              "      <td>12.347429</td>\n",
              "    </tr>\n",
              "    <tr>\n",
              "      <th>min</th>\n",
              "      <td>17.000000</td>\n",
              "      <td>1.228500e+04</td>\n",
              "      <td>1.000000</td>\n",
              "      <td>0.000000</td>\n",
              "      <td>0.000000</td>\n",
              "      <td>1.000000</td>\n",
              "    </tr>\n",
              "    <tr>\n",
              "      <th>25%</th>\n",
              "      <td>28.000000</td>\n",
              "      <td>1.178270e+05</td>\n",
              "      <td>9.000000</td>\n",
              "      <td>0.000000</td>\n",
              "      <td>0.000000</td>\n",
              "      <td>40.000000</td>\n",
              "    </tr>\n",
              "    <tr>\n",
              "      <th>50%</th>\n",
              "      <td>37.000000</td>\n",
              "      <td>1.783560e+05</td>\n",
              "      <td>10.000000</td>\n",
              "      <td>0.000000</td>\n",
              "      <td>0.000000</td>\n",
              "      <td>40.000000</td>\n",
              "    </tr>\n",
              "    <tr>\n",
              "      <th>75%</th>\n",
              "      <td>48.000000</td>\n",
              "      <td>2.370510e+05</td>\n",
              "      <td>12.000000</td>\n",
              "      <td>0.000000</td>\n",
              "      <td>0.000000</td>\n",
              "      <td>45.000000</td>\n",
              "    </tr>\n",
              "    <tr>\n",
              "      <th>max</th>\n",
              "      <td>90.000000</td>\n",
              "      <td>1.484705e+06</td>\n",
              "      <td>16.000000</td>\n",
              "      <td>99999.000000</td>\n",
              "      <td>4356.000000</td>\n",
              "      <td>99.000000</td>\n",
              "    </tr>\n",
              "  </tbody>\n",
              "</table>\n",
              "</div>"
            ],
            "text/plain": [
              "                age        fnlwgt  education_num  capital_gain  capital_loss  \\\n",
              "count  32561.000000  3.256100e+04   32561.000000  32561.000000  32561.000000   \n",
              "mean      38.581647  1.897784e+05      10.080679   1077.648844     87.303830   \n",
              "std       13.640433  1.055500e+05       2.572720   7385.292085    402.960219   \n",
              "min       17.000000  1.228500e+04       1.000000      0.000000      0.000000   \n",
              "25%       28.000000  1.178270e+05       9.000000      0.000000      0.000000   \n",
              "50%       37.000000  1.783560e+05      10.000000      0.000000      0.000000   \n",
              "75%       48.000000  2.370510e+05      12.000000      0.000000      0.000000   \n",
              "max       90.000000  1.484705e+06      16.000000  99999.000000   4356.000000   \n",
              "\n",
              "       hours_per_week  \n",
              "count    32561.000000  \n",
              "mean        40.437456  \n",
              "std         12.347429  \n",
              "min          1.000000  \n",
              "25%         40.000000  \n",
              "50%         40.000000  \n",
              "75%         45.000000  \n",
              "max         99.000000  "
            ]
          },
          "execution_count": 784,
          "metadata": {},
          "output_type": "execute_result"
        }
      ],
      "source": [
        "df.describe()  # Hiển thị các thống kê mô tả cơ bản cho các cột số trong DataFrame df.\n"
      ]
    },
    {
      "cell_type": "code",
      "execution_count": 785,
      "metadata": {
        "colab": {
          "base_uri": "https://localhost:8080/",
          "height": 237
        },
        "id": "0EFVujaSUA6u",
        "outputId": "56a638ad-69f5-4eb8-9922-b9e797d7b37c"
      },
      "outputs": [
        {
          "data": {
            "text/html": [
              "<div>\n",
              "<style scoped>\n",
              "    .dataframe tbody tr th:only-of-type {\n",
              "        vertical-align: middle;\n",
              "    }\n",
              "\n",
              "    .dataframe tbody tr th {\n",
              "        vertical-align: top;\n",
              "    }\n",
              "\n",
              "    .dataframe thead th {\n",
              "        text-align: right;\n",
              "    }\n",
              "</style>\n",
              "<table border=\"1\" class=\"dataframe\">\n",
              "  <thead>\n",
              "    <tr style=\"text-align: right;\">\n",
              "      <th></th>\n",
              "      <th>count</th>\n",
              "      <th>mean</th>\n",
              "      <th>std</th>\n",
              "      <th>min</th>\n",
              "      <th>25%</th>\n",
              "      <th>50%</th>\n",
              "      <th>75%</th>\n",
              "      <th>max</th>\n",
              "    </tr>\n",
              "  </thead>\n",
              "  <tbody>\n",
              "    <tr>\n",
              "      <th>age</th>\n",
              "      <td>32561.0</td>\n",
              "      <td>38.581647</td>\n",
              "      <td>13.640433</td>\n",
              "      <td>17.0</td>\n",
              "      <td>28.0</td>\n",
              "      <td>37.0</td>\n",
              "      <td>48.0</td>\n",
              "      <td>90.0</td>\n",
              "    </tr>\n",
              "    <tr>\n",
              "      <th>fnlwgt</th>\n",
              "      <td>32561.0</td>\n",
              "      <td>189778.366512</td>\n",
              "      <td>105549.977697</td>\n",
              "      <td>12285.0</td>\n",
              "      <td>117827.0</td>\n",
              "      <td>178356.0</td>\n",
              "      <td>237051.0</td>\n",
              "      <td>1484705.0</td>\n",
              "    </tr>\n",
              "    <tr>\n",
              "      <th>education_num</th>\n",
              "      <td>32561.0</td>\n",
              "      <td>10.080679</td>\n",
              "      <td>2.572720</td>\n",
              "      <td>1.0</td>\n",
              "      <td>9.0</td>\n",
              "      <td>10.0</td>\n",
              "      <td>12.0</td>\n",
              "      <td>16.0</td>\n",
              "    </tr>\n",
              "    <tr>\n",
              "      <th>capital_gain</th>\n",
              "      <td>32561.0</td>\n",
              "      <td>1077.648844</td>\n",
              "      <td>7385.292085</td>\n",
              "      <td>0.0</td>\n",
              "      <td>0.0</td>\n",
              "      <td>0.0</td>\n",
              "      <td>0.0</td>\n",
              "      <td>99999.0</td>\n",
              "    </tr>\n",
              "    <tr>\n",
              "      <th>capital_loss</th>\n",
              "      <td>32561.0</td>\n",
              "      <td>87.303830</td>\n",
              "      <td>402.960219</td>\n",
              "      <td>0.0</td>\n",
              "      <td>0.0</td>\n",
              "      <td>0.0</td>\n",
              "      <td>0.0</td>\n",
              "      <td>4356.0</td>\n",
              "    </tr>\n",
              "    <tr>\n",
              "      <th>hours_per_week</th>\n",
              "      <td>32561.0</td>\n",
              "      <td>40.437456</td>\n",
              "      <td>12.347429</td>\n",
              "      <td>1.0</td>\n",
              "      <td>40.0</td>\n",
              "      <td>40.0</td>\n",
              "      <td>45.0</td>\n",
              "      <td>99.0</td>\n",
              "    </tr>\n",
              "  </tbody>\n",
              "</table>\n",
              "</div>"
            ],
            "text/plain": [
              "                  count           mean            std      min       25%  \\\n",
              "age             32561.0      38.581647      13.640433     17.0      28.0   \n",
              "fnlwgt          32561.0  189778.366512  105549.977697  12285.0  117827.0   \n",
              "education_num   32561.0      10.080679       2.572720      1.0       9.0   \n",
              "capital_gain    32561.0    1077.648844    7385.292085      0.0       0.0   \n",
              "capital_loss    32561.0      87.303830     402.960219      0.0       0.0   \n",
              "hours_per_week  32561.0      40.437456      12.347429      1.0      40.0   \n",
              "\n",
              "                     50%       75%        max  \n",
              "age                 37.0      48.0       90.0  \n",
              "fnlwgt          178356.0  237051.0  1484705.0  \n",
              "education_num       10.0      12.0       16.0  \n",
              "capital_gain         0.0       0.0    99999.0  \n",
              "capital_loss         0.0       0.0     4356.0  \n",
              "hours_per_week      40.0      45.0       99.0  "
            ]
          },
          "execution_count": 785,
          "metadata": {},
          "output_type": "execute_result"
        }
      ],
      "source": [
        "df.describe().T\n"
      ]
    },
    {
      "cell_type": "code",
      "execution_count": 786,
      "metadata": {
        "colab": {
          "base_uri": "https://localhost:8080/",
          "height": 431
        },
        "id": "y3WTHEOEU8QV",
        "outputId": "b8e469f6-8ccb-4e68-e4d0-b8c075567015"
      },
      "outputs": [
        {
          "data": {
            "text/html": [
              "<div>\n",
              "<style scoped>\n",
              "    .dataframe tbody tr th:only-of-type {\n",
              "        vertical-align: middle;\n",
              "    }\n",
              "\n",
              "    .dataframe tbody tr th {\n",
              "        vertical-align: top;\n",
              "    }\n",
              "\n",
              "    .dataframe thead th {\n",
              "        text-align: right;\n",
              "    }\n",
              "</style>\n",
              "<table border=\"1\" class=\"dataframe\">\n",
              "  <thead>\n",
              "    <tr style=\"text-align: right;\">\n",
              "      <th></th>\n",
              "      <th>age</th>\n",
              "      <th>workclass</th>\n",
              "      <th>fnlwgt</th>\n",
              "      <th>education</th>\n",
              "      <th>education_num</th>\n",
              "      <th>marital_status</th>\n",
              "      <th>occupation</th>\n",
              "      <th>relationship</th>\n",
              "      <th>race</th>\n",
              "      <th>sex</th>\n",
              "      <th>capital_gain</th>\n",
              "      <th>capital_loss</th>\n",
              "      <th>hours_per_week</th>\n",
              "      <th>native_country</th>\n",
              "      <th>income</th>\n",
              "    </tr>\n",
              "  </thead>\n",
              "  <tbody>\n",
              "    <tr>\n",
              "      <th>count</th>\n",
              "      <td>32561.000000</td>\n",
              "      <td>32561</td>\n",
              "      <td>3.256100e+04</td>\n",
              "      <td>32561</td>\n",
              "      <td>32561.000000</td>\n",
              "      <td>32561</td>\n",
              "      <td>32561</td>\n",
              "      <td>32561</td>\n",
              "      <td>32561</td>\n",
              "      <td>32561</td>\n",
              "      <td>32561.000000</td>\n",
              "      <td>32561.000000</td>\n",
              "      <td>32561.000000</td>\n",
              "      <td>32561</td>\n",
              "      <td>32561</td>\n",
              "    </tr>\n",
              "    <tr>\n",
              "      <th>unique</th>\n",
              "      <td>NaN</td>\n",
              "      <td>9</td>\n",
              "      <td>NaN</td>\n",
              "      <td>16</td>\n",
              "      <td>NaN</td>\n",
              "      <td>7</td>\n",
              "      <td>15</td>\n",
              "      <td>6</td>\n",
              "      <td>5</td>\n",
              "      <td>2</td>\n",
              "      <td>NaN</td>\n",
              "      <td>NaN</td>\n",
              "      <td>NaN</td>\n",
              "      <td>42</td>\n",
              "      <td>2</td>\n",
              "    </tr>\n",
              "    <tr>\n",
              "      <th>top</th>\n",
              "      <td>NaN</td>\n",
              "      <td>Private</td>\n",
              "      <td>NaN</td>\n",
              "      <td>HS-grad</td>\n",
              "      <td>NaN</td>\n",
              "      <td>Married-civ-spouse</td>\n",
              "      <td>Prof-specialty</td>\n",
              "      <td>Husband</td>\n",
              "      <td>White</td>\n",
              "      <td>Male</td>\n",
              "      <td>NaN</td>\n",
              "      <td>NaN</td>\n",
              "      <td>NaN</td>\n",
              "      <td>United-States</td>\n",
              "      <td>&lt;=50K</td>\n",
              "    </tr>\n",
              "    <tr>\n",
              "      <th>freq</th>\n",
              "      <td>NaN</td>\n",
              "      <td>22696</td>\n",
              "      <td>NaN</td>\n",
              "      <td>10501</td>\n",
              "      <td>NaN</td>\n",
              "      <td>14976</td>\n",
              "      <td>4140</td>\n",
              "      <td>13193</td>\n",
              "      <td>27816</td>\n",
              "      <td>21790</td>\n",
              "      <td>NaN</td>\n",
              "      <td>NaN</td>\n",
              "      <td>NaN</td>\n",
              "      <td>29170</td>\n",
              "      <td>24720</td>\n",
              "    </tr>\n",
              "    <tr>\n",
              "      <th>mean</th>\n",
              "      <td>38.581647</td>\n",
              "      <td>NaN</td>\n",
              "      <td>1.897784e+05</td>\n",
              "      <td>NaN</td>\n",
              "      <td>10.080679</td>\n",
              "      <td>NaN</td>\n",
              "      <td>NaN</td>\n",
              "      <td>NaN</td>\n",
              "      <td>NaN</td>\n",
              "      <td>NaN</td>\n",
              "      <td>1077.648844</td>\n",
              "      <td>87.303830</td>\n",
              "      <td>40.437456</td>\n",
              "      <td>NaN</td>\n",
              "      <td>NaN</td>\n",
              "    </tr>\n",
              "    <tr>\n",
              "      <th>std</th>\n",
              "      <td>13.640433</td>\n",
              "      <td>NaN</td>\n",
              "      <td>1.055500e+05</td>\n",
              "      <td>NaN</td>\n",
              "      <td>2.572720</td>\n",
              "      <td>NaN</td>\n",
              "      <td>NaN</td>\n",
              "      <td>NaN</td>\n",
              "      <td>NaN</td>\n",
              "      <td>NaN</td>\n",
              "      <td>7385.292085</td>\n",
              "      <td>402.960219</td>\n",
              "      <td>12.347429</td>\n",
              "      <td>NaN</td>\n",
              "      <td>NaN</td>\n",
              "    </tr>\n",
              "    <tr>\n",
              "      <th>min</th>\n",
              "      <td>17.000000</td>\n",
              "      <td>NaN</td>\n",
              "      <td>1.228500e+04</td>\n",
              "      <td>NaN</td>\n",
              "      <td>1.000000</td>\n",
              "      <td>NaN</td>\n",
              "      <td>NaN</td>\n",
              "      <td>NaN</td>\n",
              "      <td>NaN</td>\n",
              "      <td>NaN</td>\n",
              "      <td>0.000000</td>\n",
              "      <td>0.000000</td>\n",
              "      <td>1.000000</td>\n",
              "      <td>NaN</td>\n",
              "      <td>NaN</td>\n",
              "    </tr>\n",
              "    <tr>\n",
              "      <th>25%</th>\n",
              "      <td>28.000000</td>\n",
              "      <td>NaN</td>\n",
              "      <td>1.178270e+05</td>\n",
              "      <td>NaN</td>\n",
              "      <td>9.000000</td>\n",
              "      <td>NaN</td>\n",
              "      <td>NaN</td>\n",
              "      <td>NaN</td>\n",
              "      <td>NaN</td>\n",
              "      <td>NaN</td>\n",
              "      <td>0.000000</td>\n",
              "      <td>0.000000</td>\n",
              "      <td>40.000000</td>\n",
              "      <td>NaN</td>\n",
              "      <td>NaN</td>\n",
              "    </tr>\n",
              "    <tr>\n",
              "      <th>50%</th>\n",
              "      <td>37.000000</td>\n",
              "      <td>NaN</td>\n",
              "      <td>1.783560e+05</td>\n",
              "      <td>NaN</td>\n",
              "      <td>10.000000</td>\n",
              "      <td>NaN</td>\n",
              "      <td>NaN</td>\n",
              "      <td>NaN</td>\n",
              "      <td>NaN</td>\n",
              "      <td>NaN</td>\n",
              "      <td>0.000000</td>\n",
              "      <td>0.000000</td>\n",
              "      <td>40.000000</td>\n",
              "      <td>NaN</td>\n",
              "      <td>NaN</td>\n",
              "    </tr>\n",
              "    <tr>\n",
              "      <th>75%</th>\n",
              "      <td>48.000000</td>\n",
              "      <td>NaN</td>\n",
              "      <td>2.370510e+05</td>\n",
              "      <td>NaN</td>\n",
              "      <td>12.000000</td>\n",
              "      <td>NaN</td>\n",
              "      <td>NaN</td>\n",
              "      <td>NaN</td>\n",
              "      <td>NaN</td>\n",
              "      <td>NaN</td>\n",
              "      <td>0.000000</td>\n",
              "      <td>0.000000</td>\n",
              "      <td>45.000000</td>\n",
              "      <td>NaN</td>\n",
              "      <td>NaN</td>\n",
              "    </tr>\n",
              "    <tr>\n",
              "      <th>max</th>\n",
              "      <td>90.000000</td>\n",
              "      <td>NaN</td>\n",
              "      <td>1.484705e+06</td>\n",
              "      <td>NaN</td>\n",
              "      <td>16.000000</td>\n",
              "      <td>NaN</td>\n",
              "      <td>NaN</td>\n",
              "      <td>NaN</td>\n",
              "      <td>NaN</td>\n",
              "      <td>NaN</td>\n",
              "      <td>99999.000000</td>\n",
              "      <td>4356.000000</td>\n",
              "      <td>99.000000</td>\n",
              "      <td>NaN</td>\n",
              "      <td>NaN</td>\n",
              "    </tr>\n",
              "  </tbody>\n",
              "</table>\n",
              "</div>"
            ],
            "text/plain": [
              "                 age workclass        fnlwgt education  education_num  \\\n",
              "count   32561.000000     32561  3.256100e+04     32561   32561.000000   \n",
              "unique           NaN         9           NaN        16            NaN   \n",
              "top              NaN   Private           NaN   HS-grad            NaN   \n",
              "freq             NaN     22696           NaN     10501            NaN   \n",
              "mean       38.581647       NaN  1.897784e+05       NaN      10.080679   \n",
              "std        13.640433       NaN  1.055500e+05       NaN       2.572720   \n",
              "min        17.000000       NaN  1.228500e+04       NaN       1.000000   \n",
              "25%        28.000000       NaN  1.178270e+05       NaN       9.000000   \n",
              "50%        37.000000       NaN  1.783560e+05       NaN      10.000000   \n",
              "75%        48.000000       NaN  2.370510e+05       NaN      12.000000   \n",
              "max        90.000000       NaN  1.484705e+06       NaN      16.000000   \n",
              "\n",
              "             marital_status       occupation relationship    race    sex  \\\n",
              "count                 32561            32561        32561   32561  32561   \n",
              "unique                    7               15            6       5      2   \n",
              "top      Married-civ-spouse   Prof-specialty      Husband   White   Male   \n",
              "freq                  14976             4140        13193   27816  21790   \n",
              "mean                    NaN              NaN          NaN     NaN    NaN   \n",
              "std                     NaN              NaN          NaN     NaN    NaN   \n",
              "min                     NaN              NaN          NaN     NaN    NaN   \n",
              "25%                     NaN              NaN          NaN     NaN    NaN   \n",
              "50%                     NaN              NaN          NaN     NaN    NaN   \n",
              "75%                     NaN              NaN          NaN     NaN    NaN   \n",
              "max                     NaN              NaN          NaN     NaN    NaN   \n",
              "\n",
              "        capital_gain  capital_loss  hours_per_week  native_country  income  \n",
              "count   32561.000000  32561.000000    32561.000000           32561   32561  \n",
              "unique           NaN           NaN             NaN              42       2  \n",
              "top              NaN           NaN             NaN   United-States   <=50K  \n",
              "freq             NaN           NaN             NaN           29170   24720  \n",
              "mean     1077.648844     87.303830       40.437456             NaN     NaN  \n",
              "std      7385.292085    402.960219       12.347429             NaN     NaN  \n",
              "min         0.000000      0.000000        1.000000             NaN     NaN  \n",
              "25%         0.000000      0.000000       40.000000             NaN     NaN  \n",
              "50%         0.000000      0.000000       40.000000             NaN     NaN  \n",
              "75%         0.000000      0.000000       45.000000             NaN     NaN  \n",
              "max     99999.000000   4356.000000       99.000000             NaN     NaN  "
            ]
          },
          "execution_count": 786,
          "metadata": {},
          "output_type": "execute_result"
        }
      ],
      "source": [
        "df.describe(include='all')"
      ]
    },
    {
      "cell_type": "code",
      "execution_count": 787,
      "metadata": {
        "colab": {
          "base_uri": "https://localhost:8080/",
          "height": 554
        },
        "id": "todz49T9cRhr",
        "outputId": "c05e298e-3cd4-4743-ada2-5124508f6597"
      },
      "outputs": [
        {
          "data": {
            "text/plain": [
              "age               0\n",
              "workclass         0\n",
              "fnlwgt            0\n",
              "education         0\n",
              "education_num     0\n",
              "marital_status    0\n",
              "occupation        0\n",
              "relationship      0\n",
              "race              0\n",
              "sex               0\n",
              "capital_gain      0\n",
              "capital_loss      0\n",
              "hours_per_week    0\n",
              "native_country    0\n",
              "income            0\n",
              "dtype: int64"
            ]
          },
          "execution_count": 787,
          "metadata": {},
          "output_type": "execute_result"
        }
      ],
      "source": [
        "df.isnull().sum()  # Kiểm tra số lượng giá trị bị thiếu (NaN) trong mỗi cột.\n"
      ]
    },
    {
      "cell_type": "code",
      "execution_count": 788,
      "metadata": {
        "id": "CMz320VqcVsD"
      },
      "outputs": [],
      "source": [
        "assert pd.notnull(df).all().all()  # Xác nhận rằng không có giá trị nào bị thiếu trong DataFrame.\n"
      ]
    },
    {
      "cell_type": "markdown",
      "metadata": {
        "id": "Wf6bWJH6B5qo"
      },
      "source": [
        "Hàm này rất hữu ích trong giai đoạn đầu của phân tích dữ liệu, giúp người dùng có cái nhìn tổng quan về chất lượng và cấu trúc của dữ liệu trước khi tiến hành các bước phân tích sâu hơn."
      ]
    },
    {
      "cell_type": "code",
      "execution_count": 789,
      "metadata": {
        "id": "E_LX4sd9VBfw"
      },
      "outputs": [],
      "source": [
        "def initial_eda(df):\n",
        "    # Kiểm tra xem đầu vào có phải là DataFrame không\n",
        "    if isinstance(df, pd.DataFrame):\n",
        "        total_na = df.isna().sum().sum()  # Tính tổng số giá trị NA trong DataFrame\n",
        "        print(\"Kích thước : %d hàng, %d cột\" % (df.shape[0], df.shape[1]))  # In ra kích thước của DataFrame\n",
        "        print(\"Tổng số giá trị NA : %d \" % (total_na))  # In ra tổng số giá trị NA\n",
        "        print(\"%38s %10s     %10s %10s\" % (\"Tên cột\", \"Kiểu dữ liệu\", \"#Phân biệt\", \"Giá trị NA\"))  # In tiêu đề cho bảng\n",
        "        col_name = df.columns  # Lấy tên các cột\n",
        "        dtyp = df.dtypes  # Lấy kiểu dữ liệu của từng cột\n",
        "        uniq = df.nunique()  # Tính số giá trị phân biệt trong mỗi cột\n",
        "        na_val = df.isna().sum()  # Tính số giá trị NA trong mỗi cột\n",
        "\n",
        "        # Lặp qua từng cột và in thông tin\n",
        "        for i in range(len(df.columns)):\n",
        "            print(\"%38s %10s   %10s %10s\" % (col_name[i], dtyp[i], uniq[i], na_val[i]))\n",
        "\n",
        "    else:\n",
        "        # Nếu đầu vào không phải DataFrame, in thông báo lỗi\n",
        "        print(\"Mong đợi một DataFrame nhưng nhận được %15s\" % (type(df)))\n"
      ]
    },
    {
      "cell_type": "code",
      "execution_count": 790,
      "metadata": {
        "colab": {
          "base_uri": "https://localhost:8080/"
        },
        "id": "v0BNT-P_VOJG",
        "outputId": "9d7ca013-520d-423b-dc41-875757bbd3f0"
      },
      "outputs": [
        {
          "name": "stdout",
          "output_type": "stream",
          "text": [
            "Kích thước : 32561 hàng, 15 cột\n",
            "Tổng số giá trị NA : 0 \n",
            "                               Tên cột Kiểu dữ liệu     #Phân biệt Giá trị NA\n",
            "                                   age      int64           73          0\n",
            "                             workclass     object            9          0\n",
            "                                fnlwgt      int64        21648          0\n",
            "                             education     object           16          0\n",
            "                         education_num      int64           16          0\n",
            "                        marital_status     object            7          0\n",
            "                            occupation     object           15          0\n",
            "                          relationship     object            6          0\n",
            "                                  race     object            5          0\n",
            "                                   sex     object            2          0\n",
            "                          capital_gain      int64          119          0\n",
            "                          capital_loss      int64           92          0\n",
            "                        hours_per_week      int64           94          0\n",
            "                        native_country     object           42          0\n",
            "                                income     object            2          0\n"
          ]
        },
        {
          "name": "stderr",
          "output_type": "stream",
          "text": [
            "C:\\Users\\PHAN DUC TAI\\AppData\\Local\\Temp\\ipykernel_11296\\1159414504.py:15: FutureWarning: Series.__getitem__ treating keys as positions is deprecated. In a future version, integer keys will always be treated as labels (consistent with DataFrame behavior). To access a value by position, use `ser.iloc[pos]`\n",
            "  print(\"%38s %10s   %10s %10s\" % (col_name[i], dtyp[i], uniq[i], na_val[i]))\n"
          ]
        }
      ],
      "source": [
        "initial_eda(df)"
      ]
    },
    {
      "cell_type": "code",
      "execution_count": 791,
      "metadata": {
        "colab": {
          "base_uri": "https://localhost:8080/"
        },
        "id": "TuHLWvsfVQNs",
        "outputId": "289a6740-8093-4366-cbd0-49fdea8d7a10"
      },
      "outputs": [
        {
          "name": "stdout",
          "output_type": "stream",
          "text": [
            "Có 9 biến phân loại\n",
            "\n",
            "Các biến phân loại là:\n",
            "\n",
            " ['workclass', 'education', 'marital_status', 'occupation', 'relationship', 'race', 'sex', 'native_country', 'income']\n"
          ]
        }
      ],
      "source": [
        "categorical = [var for var in df.columns if df[var].dtype=='O']  # Tìm các biến phân loại (kiểu dữ liệu 'O' đại diện cho chuỗi)\n",
        "\n",
        "# In ra số lượng các biến phân loại\n",
        "print('Có {} biến phân loại\\n'.format(len(categorical)))\n",
        "\n",
        "# In ra danh sách các biến phân loại\n",
        "print('Các biến phân loại là:\\n\\n', categorical)\n"
      ]
    },
    {
      "cell_type": "code",
      "execution_count": 792,
      "metadata": {
        "colab": {
          "base_uri": "https://localhost:8080/",
          "height": 206
        },
        "id": "L78UrZz-b7aM",
        "outputId": "e62add41-ae81-416f-b100-5ea44da98595"
      },
      "outputs": [
        {
          "data": {
            "text/html": [
              "<div>\n",
              "<style scoped>\n",
              "    .dataframe tbody tr th:only-of-type {\n",
              "        vertical-align: middle;\n",
              "    }\n",
              "\n",
              "    .dataframe tbody tr th {\n",
              "        vertical-align: top;\n",
              "    }\n",
              "\n",
              "    .dataframe thead th {\n",
              "        text-align: right;\n",
              "    }\n",
              "</style>\n",
              "<table border=\"1\" class=\"dataframe\">\n",
              "  <thead>\n",
              "    <tr style=\"text-align: right;\">\n",
              "      <th></th>\n",
              "      <th>workclass</th>\n",
              "      <th>education</th>\n",
              "      <th>marital_status</th>\n",
              "      <th>occupation</th>\n",
              "      <th>relationship</th>\n",
              "      <th>race</th>\n",
              "      <th>sex</th>\n",
              "      <th>native_country</th>\n",
              "      <th>income</th>\n",
              "    </tr>\n",
              "  </thead>\n",
              "  <tbody>\n",
              "    <tr>\n",
              "      <th>0</th>\n",
              "      <td>State-gov</td>\n",
              "      <td>Bachelors</td>\n",
              "      <td>Never-married</td>\n",
              "      <td>Adm-clerical</td>\n",
              "      <td>Not-in-family</td>\n",
              "      <td>White</td>\n",
              "      <td>Male</td>\n",
              "      <td>United-States</td>\n",
              "      <td>&lt;=50K</td>\n",
              "    </tr>\n",
              "    <tr>\n",
              "      <th>1</th>\n",
              "      <td>Self-emp-not-inc</td>\n",
              "      <td>Bachelors</td>\n",
              "      <td>Married-civ-spouse</td>\n",
              "      <td>Exec-managerial</td>\n",
              "      <td>Husband</td>\n",
              "      <td>White</td>\n",
              "      <td>Male</td>\n",
              "      <td>United-States</td>\n",
              "      <td>&lt;=50K</td>\n",
              "    </tr>\n",
              "    <tr>\n",
              "      <th>2</th>\n",
              "      <td>Private</td>\n",
              "      <td>HS-grad</td>\n",
              "      <td>Divorced</td>\n",
              "      <td>Handlers-cleaners</td>\n",
              "      <td>Not-in-family</td>\n",
              "      <td>White</td>\n",
              "      <td>Male</td>\n",
              "      <td>United-States</td>\n",
              "      <td>&lt;=50K</td>\n",
              "    </tr>\n",
              "    <tr>\n",
              "      <th>3</th>\n",
              "      <td>Private</td>\n",
              "      <td>11th</td>\n",
              "      <td>Married-civ-spouse</td>\n",
              "      <td>Handlers-cleaners</td>\n",
              "      <td>Husband</td>\n",
              "      <td>Black</td>\n",
              "      <td>Male</td>\n",
              "      <td>United-States</td>\n",
              "      <td>&lt;=50K</td>\n",
              "    </tr>\n",
              "    <tr>\n",
              "      <th>4</th>\n",
              "      <td>Private</td>\n",
              "      <td>Bachelors</td>\n",
              "      <td>Married-civ-spouse</td>\n",
              "      <td>Prof-specialty</td>\n",
              "      <td>Wife</td>\n",
              "      <td>Black</td>\n",
              "      <td>Female</td>\n",
              "      <td>Cuba</td>\n",
              "      <td>&lt;=50K</td>\n",
              "    </tr>\n",
              "  </tbody>\n",
              "</table>\n",
              "</div>"
            ],
            "text/plain": [
              "           workclass   education       marital_status          occupation  \\\n",
              "0          State-gov   Bachelors        Never-married        Adm-clerical   \n",
              "1   Self-emp-not-inc   Bachelors   Married-civ-spouse     Exec-managerial   \n",
              "2            Private     HS-grad             Divorced   Handlers-cleaners   \n",
              "3            Private        11th   Married-civ-spouse   Handlers-cleaners   \n",
              "4            Private   Bachelors   Married-civ-spouse      Prof-specialty   \n",
              "\n",
              "     relationship    race      sex  native_country  income  \n",
              "0   Not-in-family   White     Male   United-States   <=50K  \n",
              "1         Husband   White     Male   United-States   <=50K  \n",
              "2   Not-in-family   White     Male   United-States   <=50K  \n",
              "3         Husband   Black     Male   United-States   <=50K  \n",
              "4            Wife   Black   Female            Cuba   <=50K  "
            ]
          },
          "execution_count": 792,
          "metadata": {},
          "output_type": "execute_result"
        }
      ],
      "source": [
        "df[categorical].head()  # Hiển thị 5 dòng đầu tiên của các biến phân loại trong DataFrame\n"
      ]
    },
    {
      "cell_type": "code",
      "execution_count": 793,
      "metadata": {
        "colab": {
          "base_uri": "https://localhost:8080/"
        },
        "id": "SJsIUVbrbvKE",
        "outputId": "27434f7f-3f8e-4f0b-e086-610529fe28e8"
      },
      "outputs": [
        {
          "name": "stdout",
          "output_type": "stream",
          "text": [
            "workclass\n",
            "Private             22696\n",
            "Self-emp-not-inc     2541\n",
            "Local-gov            2093\n",
            "?                    1836\n",
            "State-gov            1298\n",
            "Self-emp-inc         1116\n",
            "Federal-gov           960\n",
            "Without-pay            14\n",
            "Never-worked            7\n",
            "Name: count, dtype: int64 \n",
            "\n",
            "education\n",
            "HS-grad         10501\n",
            "Some-college     7291\n",
            "Bachelors        5355\n",
            "Masters          1723\n",
            "Assoc-voc        1382\n",
            "11th             1175\n",
            "Assoc-acdm       1067\n",
            "10th              933\n",
            "7th-8th           646\n",
            "Prof-school       576\n",
            "9th               514\n",
            "12th              433\n",
            "Doctorate         413\n",
            "5th-6th           333\n",
            "1st-4th           168\n",
            "Preschool          51\n",
            "Name: count, dtype: int64 \n",
            "\n",
            "marital_status\n",
            "Married-civ-spouse       14976\n",
            "Never-married            10683\n",
            "Divorced                  4443\n",
            "Separated                 1025\n",
            "Widowed                    993\n",
            "Married-spouse-absent      418\n",
            "Married-AF-spouse           23\n",
            "Name: count, dtype: int64 \n",
            "\n",
            "occupation\n",
            "Prof-specialty       4140\n",
            "Craft-repair         4099\n",
            "Exec-managerial      4066\n",
            "Adm-clerical         3770\n",
            "Sales                3650\n",
            "Other-service        3295\n",
            "Machine-op-inspct    2002\n",
            "?                    1843\n",
            "Transport-moving     1597\n",
            "Handlers-cleaners    1370\n",
            "Farming-fishing       994\n",
            "Tech-support          928\n",
            "Protective-serv       649\n",
            "Priv-house-serv       149\n",
            "Armed-Forces            9\n",
            "Name: count, dtype: int64 \n",
            "\n",
            "relationship\n",
            "Husband           13193\n",
            "Not-in-family      8305\n",
            "Own-child          5068\n",
            "Unmarried          3446\n",
            "Wife               1568\n",
            "Other-relative      981\n",
            "Name: count, dtype: int64 \n",
            "\n",
            "race\n",
            "White                 27816\n",
            "Black                  3124\n",
            "Asian-Pac-Islander     1039\n",
            "Amer-Indian-Eskimo      311\n",
            "Other                   271\n",
            "Name: count, dtype: int64 \n",
            "\n",
            "sex\n",
            "Male      21790\n",
            "Female    10771\n",
            "Name: count, dtype: int64 \n",
            "\n",
            "native_country\n",
            "United-States                 29170\n",
            "Mexico                          643\n",
            "?                               583\n",
            "Philippines                     198\n",
            "Germany                         137\n",
            "Canada                          121\n",
            "Puerto-Rico                     114\n",
            "El-Salvador                     106\n",
            "India                           100\n",
            "Cuba                             95\n",
            "England                          90\n",
            "Jamaica                          81\n",
            "South                            80\n",
            "China                            75\n",
            "Italy                            73\n",
            "Dominican-Republic               70\n",
            "Vietnam                          67\n",
            "Guatemala                        64\n",
            "Japan                            62\n",
            "Poland                           60\n",
            "Columbia                         59\n",
            "Taiwan                           51\n",
            "Haiti                            44\n",
            "Iran                             43\n",
            "Portugal                         37\n",
            "Nicaragua                        34\n",
            "Peru                             31\n",
            "France                           29\n",
            "Greece                           29\n",
            "Ecuador                          28\n",
            "Ireland                          24\n",
            "Hong                             20\n",
            "Trinadad&Tobago                  19\n",
            "Cambodia                         19\n",
            "Thailand                         18\n",
            "Laos                             18\n",
            "Yugoslavia                       16\n",
            "Outlying-US(Guam-USVI-etc)       14\n",
            "Honduras                         13\n",
            "Hungary                          13\n",
            "Scotland                         12\n",
            "Holand-Netherlands                1\n",
            "Name: count, dtype: int64 \n",
            "\n",
            "income\n",
            "<=50K    24720\n",
            ">50K      7841\n",
            "Name: count, dtype: int64 \n",
            "\n"
          ]
        }
      ],
      "source": [
        "for var in categorical:\n",
        "    print(df[var].value_counts(), '\\n')  # In kết quả đếm các giá trị của mỗi biến phân loại, cách nhau bằng dòng trống\n"
      ]
    },
    {
      "cell_type": "code",
      "execution_count": 794,
      "metadata": {
        "colab": {
          "base_uri": "https://localhost:8080/"
        },
        "id": "1mRTEdqXVmf-",
        "outputId": "0c240d9a-d1f6-4bba-e859-6ed3e7c396c0"
      },
      "outputs": [
        {
          "name": "stdout",
          "output_type": "stream",
          "text": [
            "workclass\n",
            "Private             0.697030\n",
            "Self-emp-not-inc    0.078038\n",
            "Local-gov           0.064279\n",
            "?                   0.056386\n",
            "State-gov           0.039864\n",
            "Self-emp-inc        0.034274\n",
            "Federal-gov         0.029483\n",
            "Without-pay         0.000430\n",
            "Never-worked        0.000215\n",
            "Name: count, dtype: float64 \n",
            "\n",
            "education\n",
            "HS-grad         0.322502\n",
            "Some-college    0.223918\n",
            "Bachelors       0.164461\n",
            "Masters         0.052916\n",
            "Assoc-voc       0.042443\n",
            "11th            0.036086\n",
            "Assoc-acdm      0.032769\n",
            "10th            0.028654\n",
            "7th-8th         0.019840\n",
            "Prof-school     0.017690\n",
            "9th             0.015786\n",
            "12th            0.013298\n",
            "Doctorate       0.012684\n",
            "5th-6th         0.010227\n",
            "1st-4th         0.005160\n",
            "Preschool       0.001566\n",
            "Name: count, dtype: float64 \n",
            "\n",
            "marital_status\n",
            "Married-civ-spouse       0.459937\n",
            "Never-married            0.328092\n",
            "Divorced                 0.136452\n",
            "Separated                0.031479\n",
            "Widowed                  0.030497\n",
            "Married-spouse-absent    0.012837\n",
            "Married-AF-spouse        0.000706\n",
            "Name: count, dtype: float64 \n",
            "\n",
            "occupation\n",
            "Prof-specialty       0.127146\n",
            "Craft-repair         0.125887\n",
            "Exec-managerial      0.124873\n",
            "Adm-clerical         0.115783\n",
            "Sales                0.112097\n",
            "Other-service        0.101195\n",
            "Machine-op-inspct    0.061485\n",
            "?                    0.056601\n",
            "Transport-moving     0.049046\n",
            "Handlers-cleaners    0.042075\n",
            "Farming-fishing      0.030527\n",
            "Tech-support         0.028500\n",
            "Protective-serv      0.019932\n",
            "Priv-house-serv      0.004576\n",
            "Armed-Forces         0.000276\n",
            "Name: count, dtype: float64 \n",
            "\n",
            "relationship\n",
            "Husband           0.405178\n",
            "Not-in-family     0.255060\n",
            "Own-child         0.155646\n",
            "Unmarried         0.105832\n",
            "Wife              0.048156\n",
            "Other-relative    0.030128\n",
            "Name: count, dtype: float64 \n",
            "\n",
            "race\n",
            "White                 0.854274\n",
            "Black                 0.095943\n",
            "Asian-Pac-Islander    0.031909\n",
            "Amer-Indian-Eskimo    0.009551\n",
            "Other                 0.008323\n",
            "Name: count, dtype: float64 \n",
            "\n",
            "sex\n",
            "Male      0.669205\n",
            "Female    0.330795\n",
            "Name: count, dtype: float64 \n",
            "\n",
            "native_country\n",
            "United-States                 0.895857\n",
            "Mexico                        0.019748\n",
            "?                             0.017905\n",
            "Philippines                   0.006081\n",
            "Germany                       0.004207\n",
            "Canada                        0.003716\n",
            "Puerto-Rico                   0.003501\n",
            "El-Salvador                   0.003255\n",
            "India                         0.003071\n",
            "Cuba                          0.002918\n",
            "England                       0.002764\n",
            "Jamaica                       0.002488\n",
            "South                         0.002457\n",
            "China                         0.002303\n",
            "Italy                         0.002242\n",
            "Dominican-Republic            0.002150\n",
            "Vietnam                       0.002058\n",
            "Guatemala                     0.001966\n",
            "Japan                         0.001904\n",
            "Poland                        0.001843\n",
            "Columbia                      0.001812\n",
            "Taiwan                        0.001566\n",
            "Haiti                         0.001351\n",
            "Iran                          0.001321\n",
            "Portugal                      0.001136\n",
            "Nicaragua                     0.001044\n",
            "Peru                          0.000952\n",
            "France                        0.000891\n",
            "Greece                        0.000891\n",
            "Ecuador                       0.000860\n",
            "Ireland                       0.000737\n",
            "Hong                          0.000614\n",
            "Trinadad&Tobago               0.000584\n",
            "Cambodia                      0.000584\n",
            "Thailand                      0.000553\n",
            "Laos                          0.000553\n",
            "Yugoslavia                    0.000491\n",
            "Outlying-US(Guam-USVI-etc)    0.000430\n",
            "Honduras                      0.000399\n",
            "Hungary                       0.000399\n",
            "Scotland                      0.000369\n",
            "Holand-Netherlands            0.000031\n",
            "Name: count, dtype: float64 \n",
            "\n",
            "income\n",
            "<=50K    0.75919\n",
            ">50K     0.24081\n",
            "Name: count, dtype: float64 \n",
            "\n"
          ]
        }
      ],
      "source": [
        "for var in categorical:\n",
        "    print(df[var].value_counts() / float(len(df)), '\\n')  # In tỉ lệ phần trăm các giá trị của mỗi biến phân loại\n",
        "\n"
      ]
    },
    {
      "cell_type": "code",
      "execution_count": 795,
      "metadata": {
        "colab": {
          "base_uri": "https://localhost:8080/"
        },
        "id": "WFbetUu1awmK",
        "outputId": "bed8285d-88c4-45ee-ee3d-c2c2c0cb5557"
      },
      "outputs": [
        {
          "name": "stdout",
          "output_type": "stream",
          "text": [
            "income\n",
            "<=50K    24720\n",
            ">50K      7841\n",
            "Name: count, dtype: int64\n"
          ]
        }
      ],
      "source": [
        "# Loại bỏ khoảng trắng thừa trước/sau tên cột\n",
        "df.columns = df.columns.str.strip()\n",
        "\n",
        "\n",
        "# Sau đó bạn có thể chạy lại đoạn mã mà không gặp lỗi KeyError\n",
        "print(df['income'].value_counts())\n"
      ]
    },
    {
      "cell_type": "code",
      "execution_count": 796,
      "metadata": {
        "colab": {
          "base_uri": "https://localhost:8080/",
          "height": 178
        },
        "id": "W6dnXPpGcy3E",
        "outputId": "b3ed1878-9648-4369-9ab0-4ef8014ffd0f"
      },
      "outputs": [
        {
          "data": {
            "text/plain": [
              "income\n",
              "<=50K    24720\n",
              ">50K      7841\n",
              "Name: count, dtype: int64"
            ]
          },
          "execution_count": 796,
          "metadata": {},
          "output_type": "execute_result"
        }
      ],
      "source": [
        "df['income'].value_counts()  # Đếm số lượng xuất hiện của từng giá trị trong cột 'income'\n"
      ]
    },
    {
      "cell_type": "code",
      "execution_count": 797,
      "metadata": {
        "colab": {
          "base_uri": "https://localhost:8080/",
          "height": 740
        },
        "id": "Hr_1IKpjc94t",
        "outputId": "f0dc9122-147a-48c2-ae68-1eda6eadcec7"
      },
      "outputs": [
        {
          "name": "stderr",
          "output_type": "stream",
          "text": [
            "C:\\Users\\PHAN DUC TAI\\AppData\\Local\\Temp\\ipykernel_11296\\3199106879.py:10: FutureWarning: \n",
            "\n",
            "Passing `palette` without assigning `hue` is deprecated and will be removed in v0.14.0. Assign the `x` variable to `hue` and set `legend=False` for the same effect.\n",
            "\n",
            "  ax[1] = sns.countplot(x=\"income\", data=df, palette=\"Set1\")\n"
          ]
        },
        {
          "data": {
            "image/png": "[encoded data removed]",
            "text/plain": [
              "<Figure size 1800x800 with 2 Axes>"
            ]
          },
          "metadata": {},
          "output_type": "display_data"
        }
      ],
      "source": [
        "# visualize frequency distribution of income variable\n",
        "\n",
        "f, ax = plt.subplots(1, 2, figsize=(18, 8))  # Tạo một lưới con gồm 1 hàng và 2 cột với kích thước 18x8 inch\n",
        "\n",
        "# Biểu đồ hình tròn thể hiện tỉ lệ các giá trị trong cột 'income'\n",
        "ax[0] = df['income'].value_counts().plot.pie(explode=[0, 0], autopct='%1.1f%%', ax=ax[0], shadow=True)\n",
        "ax[0].set_title('Income Share')  # Đặt tiêu đề cho biểu đồ hình tròn\n",
        "\n",
        "# Biểu đồ cột thể hiện phân phối tần suất của biến 'income'\n",
        "ax[1] = sns.countplot(x=\"income\", data=df, palette=\"Set1\")\n",
        "ax[1].set_title(\"Frequency distribution of income variable\")  # Đặt tiêu đề cho biểu đồ cột\n",
        "\n",
        "plt.show()  # Hiển thị các biểu đồ\n"
      ]
    },
    {
      "cell_type": "code",
      "execution_count": 798,
      "metadata": {
        "colab": {
          "base_uri": "https://localhost:8080/",
          "height": 740
        },
        "id": "9TSKtCS4dWYh",
        "outputId": "bc05e25d-a2b8-44d6-df5c-74fb51c30217"
      },
      "outputs": [
        {
          "name": "stderr",
          "output_type": "stream",
          "text": [
            "C:\\Users\\PHAN DUC TAI\\AppData\\Local\\Temp\\ipykernel_11296\\992068436.py:2: FutureWarning: \n",
            "\n",
            "Passing `palette` without assigning `hue` is deprecated and will be removed in v0.14.0. Assign the `y` variable to `hue` and set `legend=False` for the same effect.\n",
            "\n",
            "  ax = sns.countplot(y=\"income\", data=df, palette=\"Set1\")  # Tạo biểu đồ cột cho biến 'income' theo chiều ngang\n"
          ]
        },
        {
          "data": {
            "image/png": "[encoded data removed]",
            "text/plain": [
              "<Figure size 800x600 with 1 Axes>"
            ]
          },
          "metadata": {},
          "output_type": "display_data"
        }
      ],
      "source": [
        "f, ax = plt.subplots(figsize=(8, 6))  # Tạo một lưới con với kích thước 8x6 inch\n",
        "ax = sns.countplot(y=\"income\", data=df, palette=\"Set1\")  # Tạo biểu đồ cột cho biến 'income' theo chiều ngang\n",
        "ax.set_title(\"Frequency distribution of income variable\")  # Đặt tiêu đề cho biểu đồ\n",
        "plt.show()  # Hiển thị biểu đồ\n"
      ]
    },
    {
      "cell_type": "code",
      "execution_count": 799,
      "metadata": {
        "colab": {
          "base_uri": "https://localhost:8080/",
          "height": 809
        },
        "id": "4gR64sI_di37",
        "outputId": "e2c685d4-1581-4500-e097-51a85006ffbc"
      },
      "outputs": [
        {
          "data": {
            "image/png": "[encoded data removed]",
            "text/plain": [
              "<Figure size 1000x800 with 1 Axes>"
            ]
          },
          "metadata": {},
          "output_type": "display_data"
        }
      ],
      "source": [
        "f, ax = plt.subplots(figsize=(10, 8))  # Tạo một lưới con với kích thước 10x8 inch\n",
        "ax = sns.countplot(x=\"income\", hue=\"sex\", data=df, palette=\"Set1\")  # Tạo biểu đồ cột cho biến 'income', phân tách theo giới tính ('sex')\n",
        "ax.set_title(\"Phân phối tần suất của biến thu nhập dựa trên giới tính\")  # Đặt tiêu đề cho biểu đồ (dịch tiêu đề sang tiếng Việt)\n",
        "plt.show()  # Hiển thị biểu đồ\n"
      ]
    },
    {
      "cell_type": "code",
      "execution_count": 800,
      "metadata": {
        "colab": {
          "base_uri": "https://localhost:8080/",
          "height": 914
        },
        "id": "DirN8sEhdleg",
        "outputId": "2e4e0869-708f-4ea8-c698-14bd6bb1eb02"
      },
      "outputs": [
        {
          "data": {
            "image/png": "[encoded data removed]",
            "text/plain": [
              "<Figure size 1000x800 with 1 Axes>"
            ]
          },
          "metadata": {},
          "output_type": "display_data"
        }
      ],
      "source": [
        "f, ax = plt.subplots(figsize=(10, 8))  # Tạo một lưới con với kích thước 10x8 inch\n",
        "ax = sns.countplot(x=\"income\", hue=\"race\", data=df, palette=\"Set1\")  # Tạo biểu đồ cột cho biến 'income', phân tách theo chủng tộc ('race')\n",
        "ax.set_title(\"Phân phối tần suất của biến thu nhập dựa trên chủng tộc\")  # Đặt tiêu đề cho biểu đồ (dịch tiêu đề sang tiếng Việt)\n",
        "plt.show()  # Hiển thị biểu đồ\n"
      ]
    },
    {
      "cell_type": "code",
      "execution_count": 801,
      "metadata": {
        "colab": {
          "base_uri": "https://localhost:8080/"
        },
        "id": "lyVaDosldos3",
        "outputId": "361438be-0ef0-481a-881e-8d6c6e08f0a9"
      },
      "outputs": [
        {
          "data": {
            "text/plain": [
              "array([' State-gov', ' Self-emp-not-inc', ' Private', ' Federal-gov',\n",
              "       ' Local-gov', ' ?', ' Self-emp-inc', ' Without-pay',\n",
              "       ' Never-worked'], dtype=object)"
            ]
          },
          "execution_count": 801,
          "metadata": {},
          "output_type": "execute_result"
        }
      ],
      "source": [
        "df.workclass.unique()  # Lấy và in ra các giá trị duy nhất (distinct) trong cột 'workclass' của DataFrame 'df'\n"
      ]
    },
    {
      "cell_type": "code",
      "execution_count": 802,
      "metadata": {
        "colab": {
          "base_uri": "https://localhost:8080/",
          "height": 397
        },
        "id": "AmVTBJGkhh3x",
        "outputId": "ffe11b8c-b88b-47e3-ae14-a3c658bd82c0"
      },
      "outputs": [
        {
          "data": {
            "text/plain": [
              "workclass\n",
              "Private             22696\n",
              "Self-emp-not-inc     2541\n",
              "Local-gov            2093\n",
              "?                    1836\n",
              "State-gov            1298\n",
              "Self-emp-inc         1116\n",
              "Federal-gov           960\n",
              "Without-pay            14\n",
              "Never-worked            7\n",
              "Name: count, dtype: int64"
            ]
          },
          "execution_count": 802,
          "metadata": {},
          "output_type": "execute_result"
        }
      ],
      "source": [
        "df.workclass.value_counts()  # Đếm số lần xuất hiện của mỗi giá trị trong cột 'workclass' và in ra số lượng tương ứng\n"
      ]
    },
    {
      "cell_type": "code",
      "execution_count": 803,
      "metadata": {
        "colab": {
          "base_uri": "https://localhost:8080/",
          "height": 366
        },
        "id": "q0mIUWWkhopo",
        "outputId": "3009e6d7-f0c6-45d9-e63d-f3bfe38e785c"
      },
      "outputs": [
        {
          "data": {
            "text/plain": [
              "workclass\n",
              "Private             22696\n",
              "Self-emp-not-inc     2541\n",
              "Local-gov            2093\n",
              "?                    1836\n",
              "State-gov            1298\n",
              "Self-emp-inc         1116\n",
              "Federal-gov           960\n",
              "Without-pay            14\n",
              "Never-worked            7\n",
              "Name: count, dtype: int64"
            ]
          },
          "execution_count": 803,
          "metadata": {},
          "output_type": "execute_result"
        }
      ],
      "source": [
        "df.workclass.value_counts()  # Đếm số lượng các giá trị khác nhau trong cột 'workclass' sau khi đã thay thế các giá trị '?' bằng NaN.\n"
      ]
    },
    {
      "cell_type": "markdown",
      "metadata": {
        "id": "aLXtm0xQiCaz"
      },
      "source": [
        "Diễn giải: chúng ta có thể thấy nhiều nhà Tư nhân hơn so với các nhà lao độn khác"
      ]
    },
    {
      "cell_type": "code",
      "execution_count": 804,
      "metadata": {
        "colab": {
          "base_uri": "https://localhost:8080/",
          "height": 623
        },
        "id": "iXIZMmdDhrc5",
        "outputId": "ab26ac49-0e13-40b5-e65c-3ca8d2231d19"
      },
      "outputs": [
        {
          "data": {
            "image/png": "[encoded data removed]",
            "text/plain": [
              "<Figure size 1000x600 with 1 Axes>"
            ]
          },
          "metadata": {},
          "output_type": "display_data"
        }
      ],
      "source": [
        "f, ax = plt.subplots(figsize=(10, 6))  # Tạo một khung hình có kích thước 10x6\n",
        "ax = df.workclass.value_counts().plot(kind=\"bar\", color=\"green\")  # Vẽ biểu đồ thanh cho tần suất của các giá trị trong cột 'workclass' với màu xanh lá\n",
        "ax.set_title(\"Tần suất của các biến trong 'workclass'\")  # Đặt tiêu đề cho biểu đồ\n",
        "ax.set_xticklabels(df.workclass.value_counts().index, rotation=30)  # Gắn nhãn cho các thanh trong biểu đồ và xoay nhãn 30 độ\n",
        "plt.show()  # Hiển thị biểu đồ\n"
      ]
    },
    {
      "cell_type": "markdown",
      "metadata": {
        "id": "pIL04JrYijbX"
      },
      "source": [
        "Giải thích :Chúng ta có thể thấy rằng người lao động kiếm được ít hơn 50 nghìn ở hầu hết các hạng mục công việc.\n",
        " Nhưng xu hướng này hấp dẫn hơn ở hạng mục Lớp học riêng tư."
      ]
    },
    {
      "cell_type": "code",
      "execution_count": 805,
      "metadata": {
        "colab": {
          "base_uri": "https://localhost:8080/",
          "height": 809
        },
        "id": "e6xuPTpDh_Cg",
        "outputId": "aff55270-a579-4318-c902-297de927ceef"
      },
      "outputs": [
        {
          "data": {
            "image/png": "[encoded data removed]",
            "text/plain": [
              "<Figure size 1200x800 with 1 Axes>"
            ]
          },
          "metadata": {},
          "output_type": "display_data"
        }
      ],
      "source": [
        "f, ax = plt.subplots(figsize=(12, 8))  # Tạo một khung hình có kích thước 12x8\n",
        "ax = sns.countplot(x=\"workclass\", hue=\"income\", data=df, palette=\"Set1\")  # Vẽ biểu đồ cột cho tần suất của các giá trị trong cột 'workclass', phân chia theo cột 'income'\n",
        "ax.set_title(\"Tần suất của biến 'workclass' liên quan đến 'income'\")  # Đặt tiêu đề cho biểu đồ\n",
        "ax.legend(loc='upper right')  # Đặt vị trí của chú thích ở góc trên bên phải\n",
        "plt.show()  # Hiển thị biểu đồ\n"
      ]
    },
    {
      "cell_type": "code",
      "execution_count": 806,
      "metadata": {
        "colab": {
          "base_uri": "https://localhost:8080/"
        },
        "id": "ifJ7CskvisM5",
        "outputId": "8b8da8c3-1d43-4e12-fc11-82a168804229"
      },
      "outputs": [
        {
          "data": {
            "text/plain": [
              "15"
            ]
          },
          "execution_count": 806,
          "metadata": {},
          "output_type": "execute_result"
        }
      ],
      "source": [
        "# Kiểm tra số lượng nhãn duy nhất trong cột 'occupation'\n",
        "df.occupation.nunique()  # Trả về số lượng các giá trị khác nhau trong cột 'occupation'\n"
      ]
    },
    {
      "cell_type": "code",
      "execution_count": 807,
      "metadata": {
        "colab": {
          "base_uri": "https://localhost:8080/"
        },
        "id": "6EI2jpQkispe",
        "outputId": "7df68163-0580-4b13-f582-f633ba1e3b96"
      },
      "outputs": [
        {
          "data": {
            "text/plain": [
              "array([' Adm-clerical', ' Exec-managerial', ' Handlers-cleaners',\n",
              "       ' Prof-specialty', ' Other-service', ' Sales', ' Craft-repair',\n",
              "       ' Transport-moving', ' Farming-fishing', ' Machine-op-inspct',\n",
              "       ' Tech-support', ' ?', ' Protective-serv', ' Armed-Forces',\n",
              "       ' Priv-house-serv'], dtype=object)"
            ]
          },
          "execution_count": 807,
          "metadata": {},
          "output_type": "execute_result"
        }
      ],
      "source": [
        "# Xem các nhãn duy nhất trong cột 'occupation'\n",
        "df.occupation.unique()  # Trả về một mảng chứa tất cả các giá trị khác nhau trong cột 'occupation'\n"
      ]
    },
    {
      "cell_type": "code",
      "execution_count": 808,
      "metadata": {
        "colab": {
          "base_uri": "https://localhost:8080/",
          "height": 1000
        },
        "id": "P39HnsABiu-q",
        "outputId": "a994b726-fbb8-40ff-a806-1e498a17f1b6"
      },
      "outputs": [
        {
          "name": "stderr",
          "output_type": "stream",
          "text": [
            "C:\\Users\\PHAN DUC TAI\\AppData\\Local\\Temp\\ipykernel_11296\\1146972775.py:3: FutureWarning: \n",
            "\n",
            "Passing `palette` without assigning `hue` is deprecated and will be removed in v0.14.0. Assign the `x` variable to `hue` and set `legend=False` for the same effect.\n",
            "\n",
            "  ax = sns.countplot(x=\"occupation\", data=df, palette=\"Set1\")  # Sử dụng seaborn để tạo biểu đồ cột cho biến 'occupation'\n",
            "C:\\Users\\PHAN DUC TAI\\AppData\\Local\\Temp\\ipykernel_11296\\1146972775.py:5: UserWarning: set_ticklabels() should only be used with a fixed number of ticks, i.e. after set_ticks() or using a FixedLocator.\n",
            "  ax.set_xticklabels(df.occupation.value_counts().index, rotation=30)  # Đặt nhãn cho trục x với các giá trị trong cột 'occupation' và xoay 30 độ\n"
          ]
        },
        {
          "data": {
            "image/png": "[encoded data removed]",
            "text/plain": [
              "<Figure size 1200x800 with 1 Axes>"
            ]
          },
          "metadata": {},
          "output_type": "display_data"
        }
      ],
      "source": [
        "# Hình ảnh hóa phân phối tần suất của biến `occupation`\n",
        "f, ax = plt.subplots(figsize=(12, 8))  # Tạo một hình vẽ với kích thước 12x8 inch\n",
        "ax = sns.countplot(x=\"occupation\", data=df, palette=\"Set1\")  # Sử dụng seaborn để tạo biểu đồ cột cho biến 'occupation'\n",
        "ax.set_title(\"Frequency distribution of occupation variable\")  # Thiết lập tiêu đề cho biểu đồ\n",
        "ax.set_xticklabels(df.occupation.value_counts().index, rotation=30)  # Đặt nhãn cho trục x với các giá trị trong cột 'occupation' và xoay 30 độ\n",
        "plt.show()  # Hiển thị biểu đồ\n"
      ]
    },
    {
      "cell_type": "code",
      "execution_count": 809,
      "metadata": {
        "colab": {
          "base_uri": "https://localhost:8080/"
        },
        "id": "qaRqy558i7MP",
        "outputId": "a4208594-338a-4e43-f275-4700e74ee735"
      },
      "outputs": [
        {
          "name": "stdout",
          "output_type": "stream",
          "text": [
            "Có 6 biến số học\n",
            "\n",
            "Các biến số học là:\n",
            "\n",
            " ['age', 'fnlwgt', 'education_num', 'capital_gain', 'capital_loss', 'hours_per_week']\n"
          ]
        }
      ],
      "source": [
        "# Tạo danh sách các biến số học trong DataFrame\n",
        "numerical = [var for var in df.columns if df[var].dtype != 'O']  # Lọc ra các cột không phải là kiểu 'object'\n",
        "\n",
        "# In ra số lượng các biến số học\n",
        "print('Có {} biến số học\\n'.format(len(numerical)))  # Sử dụng định dạng để hiển thị số lượng biến\n",
        "\n",
        "# In ra danh sách các biến số học\n",
        "print('Các biến số học là:\\n\\n', numerical)  # Hiển thị tên của các biến số học\n"
      ]
    },
    {
      "cell_type": "code",
      "execution_count": 810,
      "metadata": {
        "colab": {
          "base_uri": "https://localhost:8080/",
          "height": 206
        },
        "id": "Dpy7dFQtkBcL",
        "outputId": "ea910bae-b759-4a8f-9eaf-a115ddbeefd1"
      },
      "outputs": [
        {
          "data": {
            "text/html": [
              "<div>\n",
              "<style scoped>\n",
              "    .dataframe tbody tr th:only-of-type {\n",
              "        vertical-align: middle;\n",
              "    }\n",
              "\n",
              "    .dataframe tbody tr th {\n",
              "        vertical-align: top;\n",
              "    }\n",
              "\n",
              "    .dataframe thead th {\n",
              "        text-align: right;\n",
              "    }\n",
              "</style>\n",
              "<table border=\"1\" class=\"dataframe\">\n",
              "  <thead>\n",
              "    <tr style=\"text-align: right;\">\n",
              "      <th></th>\n",
              "      <th>age</th>\n",
              "      <th>fnlwgt</th>\n",
              "      <th>education_num</th>\n",
              "      <th>capital_gain</th>\n",
              "      <th>capital_loss</th>\n",
              "      <th>hours_per_week</th>\n",
              "    </tr>\n",
              "  </thead>\n",
              "  <tbody>\n",
              "    <tr>\n",
              "      <th>0</th>\n",
              "      <td>39</td>\n",
              "      <td>77516</td>\n",
              "      <td>13</td>\n",
              "      <td>2174</td>\n",
              "      <td>0</td>\n",
              "      <td>40</td>\n",
              "    </tr>\n",
              "    <tr>\n",
              "      <th>1</th>\n",
              "      <td>50</td>\n",
              "      <td>83311</td>\n",
              "      <td>13</td>\n",
              "      <td>0</td>\n",
              "      <td>0</td>\n",
              "      <td>13</td>\n",
              "    </tr>\n",
              "    <tr>\n",
              "      <th>2</th>\n",
              "      <td>38</td>\n",
              "      <td>215646</td>\n",
              "      <td>9</td>\n",
              "      <td>0</td>\n",
              "      <td>0</td>\n",
              "      <td>40</td>\n",
              "    </tr>\n",
              "    <tr>\n",
              "      <th>3</th>\n",
              "      <td>53</td>\n",
              "      <td>234721</td>\n",
              "      <td>7</td>\n",
              "      <td>0</td>\n",
              "      <td>0</td>\n",
              "      <td>40</td>\n",
              "    </tr>\n",
              "    <tr>\n",
              "      <th>4</th>\n",
              "      <td>28</td>\n",
              "      <td>338409</td>\n",
              "      <td>13</td>\n",
              "      <td>0</td>\n",
              "      <td>0</td>\n",
              "      <td>40</td>\n",
              "    </tr>\n",
              "  </tbody>\n",
              "</table>\n",
              "</div>"
            ],
            "text/plain": [
              "   age  fnlwgt  education_num  capital_gain  capital_loss  hours_per_week\n",
              "0   39   77516             13          2174             0              40\n",
              "1   50   83311             13             0             0              13\n",
              "2   38  215646              9             0             0              40\n",
              "3   53  234721              7             0             0              40\n",
              "4   28  338409             13             0             0              40"
            ]
          },
          "execution_count": 810,
          "metadata": {},
          "output_type": "execute_result"
        }
      ],
      "source": [
        "# Hiển thị 5 dòng đầu tiên của các cột biến số học\n",
        "df[numerical].head()  # Lấy các cột thuộc dạng số học và hiển thị 5 dòng đầu tiên\n"
      ]
    },
    {
      "cell_type": "code",
      "execution_count": 811,
      "metadata": {
        "colab": {
          "base_uri": "https://localhost:8080/",
          "height": 911
        },
        "id": "zk6476Y4kDZy",
        "outputId": "2eb7e3ff-eff4-49aa-f8f4-63856dafb5ab"
      },
      "outputs": [
        {
          "name": "stderr",
          "output_type": "stream",
          "text": [
            "C:\\Users\\PHAN DUC TAI\\AppData\\Local\\Temp\\ipykernel_11296\\489866865.py:4: UserWarning: \n",
            "\n",
            "`distplot` is a deprecated function and will be removed in seaborn v0.14.0.\n",
            "\n",
            "Please adapt your code to use either `displot` (a figure-level function with\n",
            "similar flexibility) or `histplot` (an axes-level function for histograms).\n",
            "\n",
            "For a guide to updating your code to use the new functions, please see\n",
            "https://gist.github.com/mwaskom/de44147ed2974457ad6372750bbe5751\n",
            "\n",
            "  ax = sns.distplot(x, bins=10, color='blue')  # Vẽ biểu đồ phân phối với 10 cột, màu xanh\n"
          ]
        },
        {
          "data": {
            "image/png": "[encoded data removed]",
            "text/plain": [
              "<Figure size 1000x800 with 1 Axes>"
            ]
          },
          "metadata": {},
          "output_type": "display_data"
        }
      ],
      "source": [
        "# Tạo biểu đồ phân phối của biến 'age' với các giá trị được chia thành 10 khoảng\n",
        "f, ax = plt.subplots(figsize=(10,8))  # Tạo biểu đồ với kích thước 10x8\n",
        "x = df['age']  # Lấy dữ liệu từ cột 'age'\n",
        "ax = sns.distplot(x, bins=10, color='blue')  # Vẽ biểu đồ phân phối với 10 cột, màu xanh\n",
        "ax.set_title(\"Phân phối của biến tuổi\")  # Đặt tiêu đề cho biểu đồ\n",
        "plt.show()  # Hiển thị biểu đồ\n"
      ]
    },
    {
      "cell_type": "code",
      "execution_count": 812,
      "metadata": {
        "colab": {
          "base_uri": "https://localhost:8080/",
          "height": 775
        },
        "id": "OR2qpaxSofs4",
        "outputId": "fca21299-83c1-4bff-c90d-e667a5497c14"
      },
      "outputs": [
        {
          "data": {
            "image/png": "[encoded data removed]",
            "text/plain": [
              "<Figure size 1000x800 with 1 Axes>"
            ]
          },
          "metadata": {},
          "output_type": "display_data"
        }
      ],
      "source": [
        "# Tạo biểu đồ hộp (boxplot) để hình dung mối quan hệ giữa 'income' và 'age'\n",
        "f, ax = plt.subplots(figsize=(10, 8))  # Tạo biểu đồ với kích thước 10x8\n",
        "ax = sns.boxplot(x=\"income\", y=\"age\", data=df)  # Vẽ biểu đồ hộp với trục x là 'income' và trục y là 'age'\n",
        "ax.set_title(\"Biểu đồ thu nhập so với biến tuổi\")  # Đặt tiêu đề cho biểu đồ\n",
        "plt.show()  # Hiển thị biểu đồ\n"
      ]
    },
    {
      "cell_type": "code",
      "execution_count": 813,
      "metadata": {
        "colab": {
          "base_uri": "https://localhost:8080/",
          "height": 879
        },
        "id": "zryGb29VpSEB",
        "outputId": "397510f9-6a44-4a60-a352-3f5242fe915f"
      },
      "outputs": [
        {
          "data": {
            "image/png": "[encoded data removed]",
            "text/plain": [
              "<Figure size 1000x800 with 1 Axes>"
            ]
          },
          "metadata": {},
          "output_type": "display_data"
        }
      ],
      "source": [
        "# Tạo biểu đồ hộp (boxplot) để hình dung mối quan hệ giữa 'income', 'age' và 'sex'\n",
        "f, ax = plt.subplots(figsize=(10, 8))  # Tạo biểu đồ với kích thước 10x8\n",
        "ax = sns.boxplot(x=\"income\", y=\"age\", hue=\"sex\", data=df)  # Vẽ biểu đồ hộp với trục x là 'income', trục y là 'age' và phân loại theo 'sex'\n",
        "ax.set_title(\"Biểu đồ thu nhập so với biến tuổi và giới tính\")  # Đặt tiêu đề cho biểu đồ\n",
        "ax.legend(loc='upper right')  # Đặt vị trí cho chú giải (legend)\n",
        "plt.show()  # Hiển thị biểu đồ\n"
      ]
    },
    {
      "cell_type": "code",
      "execution_count": 814,
      "metadata": {
        "colab": {
          "base_uri": "https://localhost:8080/",
          "height": 740
        },
        "id": "TJdxFUc0phRS",
        "outputId": "3cdf248d-a85d-4bc3-81d3-23d913c643a9"
      },
      "outputs": [
        {
          "data": {
            "text/plain": [
              "<Figure size 800x600 with 0 Axes>"
            ]
          },
          "metadata": {},
          "output_type": "display_data"
        },
        {
          "data": {
            "image/png": "[encoded data removed]",
            "text/plain": [
              "<Figure size 1611.11x800 with 2 Axes>"
            ]
          },
          "metadata": {},
          "output_type": "display_data"
        }
      ],
      "source": [
        "# Tạo biểu đồ hộp (boxplot) phân loại theo giới tính để so sánh độ tuổi (age) với thu nhập (income)\n",
        "plt.figure(figsize=(8, 6))  # Thiết lập kích thước cho biểu đồ\n",
        "ax = sns.catplot(x=\"income\", y=\"age\", col=\"sex\", data=df, kind=\"box\", height=8, aspect=1)\n",
        "# Vẽ biểu đồ hộp với trục x là 'income', trục y là 'age', phân loại theo 'sex', với chiều cao 8 và tỷ lệ 1\n",
        "plt.show()  # Hiển thị biểu đồ\n"
      ]
    },
    {
      "cell_type": "code",
      "execution_count": 815,
      "metadata": {
        "id": "SKm0fz7spjDG"
      },
      "outputs": [],
      "source": [
        "# Xử lý giá trị '?' thành NaN\n",
        "df.replace(' ?', np.nan, inplace=True)\n",
        "\n",
        "# Xóa các hàng có giá trị NaN\n",
        "df.dropna(inplace=True)"
      ]
    },
    {
      "cell_type": "code",
      "execution_count": 816,
      "metadata": {},
      "outputs": [],
      "source": [
        "# Tách dữ liệu\n",
        "X = df.drop(['income'], axis=1)\n",
        "y = df['income']"
      ]
    },
    {
      "cell_type": "code",
      "execution_count": 817,
      "metadata": {
        "id": "1ytKRqSuqPFM"
      },
      "outputs": [],
      "source": [
        "from sklearn.model_selection import train_test_split\n",
        "\n",
        "# Chia dữ liệu thành tập huấn luyện (X_train, y_train) và tập kiểm tra (X_test, y_test) với tỷ lệ 70% cho huấn luyện và 30% cho kiểm tra.\n",
        "X_train, X_test, y_train, y_test = train_test_split(X, y, test_size=0.3, random_state=0)\n"
      ]
    },
    {
      "cell_type": "code",
      "execution_count": 818,
      "metadata": {
        "colab": {
          "base_uri": "https://localhost:8080/"
        },
        "id": "qt6dOPofqrKO",
        "outputId": "0cf9d635-6dae-4345-f202-69eb330b92fe"
      },
      "outputs": [
        {
          "data": {
            "text/plain": [
              "['workclass',\n",
              " 'education',\n",
              " 'marital_status',\n",
              " 'occupation',\n",
              " 'relationship',\n",
              " 'race',\n",
              " 'sex',\n",
              " 'native_country']"
            ]
          },
          "execution_count": 818,
          "metadata": {},
          "output_type": "execute_result"
        }
      ],
      "source": [
        "# Tạo danh sách các biến phân loại (categorical) bằng cách kiểm tra kiểu dữ liệu của các cột trong tập huấn luyện X_train.\n",
        "\n",
        "# Phát hiện các biến phân loại\n",
        "categorical = [col for col in X_train.columns if X_train[col].dtype == 'O']\n",
        "# Hiển thị danh sách các biến phân loại.\n",
        "categorical\n"
      ]
    },
    {
      "cell_type": "code",
      "execution_count": 819,
      "metadata": {
        "colab": {
          "base_uri": "https://localhost:8080/"
        },
        "id": "b86qfg8tqUDN",
        "outputId": "8349c7a1-2b14-45d8-ae8d-dd24eabc4507"
      },
      "outputs": [
        {
          "data": {
            "text/plain": [
              "((21113, 14), (9049, 14))"
            ]
          },
          "execution_count": 819,
          "metadata": {},
          "output_type": "execute_result"
        }
      ],
      "source": [
        "# Kiểm tra kích thước (số hàng, số cột) của tập huấn luyện và tập kiểm tra\n",
        "X_train.shape, X_test.shape\n"
      ]
    },
    {
      "cell_type": "code",
      "execution_count": 820,
      "metadata": {},
      "outputs": [],
      "source": [
        "# Sử dụng OneHotEncoder để mã hóa biến phân loại\n",
        "encoder = OneHotEncoder(drop='first', sparse_output=False)\n",
        "X_train_encoded = encoder.fit_transform(X_train[categorical])\n",
        "X_test_encoded = encoder.transform(X_test[categorical])"
      ]
    },
    {
      "cell_type": "code",
      "execution_count": 821,
      "metadata": {},
      "outputs": [],
      "source": [
        "\n",
        "# Chuyển đổi lại thành DataFrame\n",
        "X_train_encoded = pd.DataFrame(X_train_encoded, columns=encoder.get_feature_names_out(categorical))\n",
        "X_test_encoded = pd.DataFrame(X_test_encoded, columns=encoder.get_feature_names_out(categorical))\n",
        "\n",
        "# Kết hợp lại với các biến số liệu\n",
        "X_train = pd.concat([X_train.drop(categorical, axis=1).reset_index(drop=True), X_train_encoded], axis=1)\n",
        "X_test = pd.concat([X_test.drop(categorical, axis=1).reset_index(drop=True), X_test_encoded], axis=1)"
      ]
    },
    {
      "cell_type": "code",
      "execution_count": 822,
      "metadata": {
        "colab": {
          "base_uri": "https://localhost:8080/",
          "height": 255
        },
        "id": "mwSQRZiYrWGC",
        "outputId": "6e1d17f1-1aee-45b2-c35d-8739629ef77f"
      },
      "outputs": [
        {
          "data": {
            "text/html": [
              "<div>\n",
              "<style scoped>\n",
              "    .dataframe tbody tr th:only-of-type {\n",
              "        vertical-align: middle;\n",
              "    }\n",
              "\n",
              "    .dataframe tbody tr th {\n",
              "        vertical-align: top;\n",
              "    }\n",
              "\n",
              "    .dataframe thead th {\n",
              "        text-align: right;\n",
              "    }\n",
              "</style>\n",
              "<table border=\"1\" class=\"dataframe\">\n",
              "  <thead>\n",
              "    <tr style=\"text-align: right;\">\n",
              "      <th></th>\n",
              "      <th>workclass_ Local-gov</th>\n",
              "      <th>workclass_ Private</th>\n",
              "      <th>workclass_ Self-emp-inc</th>\n",
              "      <th>workclass_ Self-emp-not-inc</th>\n",
              "      <th>workclass_ State-gov</th>\n",
              "      <th>workclass_ Without-pay</th>\n",
              "      <th>education_ 11th</th>\n",
              "      <th>education_ 12th</th>\n",
              "      <th>education_ 1st-4th</th>\n",
              "      <th>education_ 5th-6th</th>\n",
              "      <th>...</th>\n",
              "      <th>native_country_ Portugal</th>\n",
              "      <th>native_country_ Puerto-Rico</th>\n",
              "      <th>native_country_ Scotland</th>\n",
              "      <th>native_country_ South</th>\n",
              "      <th>native_country_ Taiwan</th>\n",
              "      <th>native_country_ Thailand</th>\n",
              "      <th>native_country_ Trinadad&amp;Tobago</th>\n",
              "      <th>native_country_ United-States</th>\n",
              "      <th>native_country_ Vietnam</th>\n",
              "      <th>native_country_ Yugoslavia</th>\n",
              "    </tr>\n",
              "  </thead>\n",
              "  <tbody>\n",
              "    <tr>\n",
              "      <th>0</th>\n",
              "      <td>0.0</td>\n",
              "      <td>1.0</td>\n",
              "      <td>0.0</td>\n",
              "      <td>0.0</td>\n",
              "      <td>0.0</td>\n",
              "      <td>0.0</td>\n",
              "      <td>0.0</td>\n",
              "      <td>0.0</td>\n",
              "      <td>0.0</td>\n",
              "      <td>0.0</td>\n",
              "      <td>...</td>\n",
              "      <td>0.0</td>\n",
              "      <td>0.0</td>\n",
              "      <td>0.0</td>\n",
              "      <td>0.0</td>\n",
              "      <td>0.0</td>\n",
              "      <td>0.0</td>\n",
              "      <td>0.0</td>\n",
              "      <td>1.0</td>\n",
              "      <td>0.0</td>\n",
              "      <td>0.0</td>\n",
              "    </tr>\n",
              "    <tr>\n",
              "      <th>1</th>\n",
              "      <td>0.0</td>\n",
              "      <td>1.0</td>\n",
              "      <td>0.0</td>\n",
              "      <td>0.0</td>\n",
              "      <td>0.0</td>\n",
              "      <td>0.0</td>\n",
              "      <td>0.0</td>\n",
              "      <td>0.0</td>\n",
              "      <td>0.0</td>\n",
              "      <td>0.0</td>\n",
              "      <td>...</td>\n",
              "      <td>0.0</td>\n",
              "      <td>0.0</td>\n",
              "      <td>0.0</td>\n",
              "      <td>0.0</td>\n",
              "      <td>0.0</td>\n",
              "      <td>0.0</td>\n",
              "      <td>0.0</td>\n",
              "      <td>1.0</td>\n",
              "      <td>0.0</td>\n",
              "      <td>0.0</td>\n",
              "    </tr>\n",
              "    <tr>\n",
              "      <th>2</th>\n",
              "      <td>1.0</td>\n",
              "      <td>0.0</td>\n",
              "      <td>0.0</td>\n",
              "      <td>0.0</td>\n",
              "      <td>0.0</td>\n",
              "      <td>0.0</td>\n",
              "      <td>0.0</td>\n",
              "      <td>0.0</td>\n",
              "      <td>0.0</td>\n",
              "      <td>0.0</td>\n",
              "      <td>...</td>\n",
              "      <td>0.0</td>\n",
              "      <td>0.0</td>\n",
              "      <td>0.0</td>\n",
              "      <td>0.0</td>\n",
              "      <td>0.0</td>\n",
              "      <td>0.0</td>\n",
              "      <td>0.0</td>\n",
              "      <td>1.0</td>\n",
              "      <td>0.0</td>\n",
              "      <td>0.0</td>\n",
              "    </tr>\n",
              "    <tr>\n",
              "      <th>3</th>\n",
              "      <td>0.0</td>\n",
              "      <td>1.0</td>\n",
              "      <td>0.0</td>\n",
              "      <td>0.0</td>\n",
              "      <td>0.0</td>\n",
              "      <td>0.0</td>\n",
              "      <td>0.0</td>\n",
              "      <td>0.0</td>\n",
              "      <td>0.0</td>\n",
              "      <td>0.0</td>\n",
              "      <td>...</td>\n",
              "      <td>0.0</td>\n",
              "      <td>0.0</td>\n",
              "      <td>0.0</td>\n",
              "      <td>0.0</td>\n",
              "      <td>0.0</td>\n",
              "      <td>0.0</td>\n",
              "      <td>0.0</td>\n",
              "      <td>1.0</td>\n",
              "      <td>0.0</td>\n",
              "      <td>0.0</td>\n",
              "    </tr>\n",
              "    <tr>\n",
              "      <th>4</th>\n",
              "      <td>1.0</td>\n",
              "      <td>0.0</td>\n",
              "      <td>0.0</td>\n",
              "      <td>0.0</td>\n",
              "      <td>0.0</td>\n",
              "      <td>0.0</td>\n",
              "      <td>0.0</td>\n",
              "      <td>0.0</td>\n",
              "      <td>0.0</td>\n",
              "      <td>0.0</td>\n",
              "      <td>...</td>\n",
              "      <td>0.0</td>\n",
              "      <td>0.0</td>\n",
              "      <td>0.0</td>\n",
              "      <td>0.0</td>\n",
              "      <td>0.0</td>\n",
              "      <td>0.0</td>\n",
              "      <td>0.0</td>\n",
              "      <td>1.0</td>\n",
              "      <td>0.0</td>\n",
              "      <td>0.0</td>\n",
              "    </tr>\n",
              "  </tbody>\n",
              "</table>\n",
              "<p>5 rows × 90 columns</p>\n",
              "</div>"
            ],
            "text/plain": [
              "   workclass_ Local-gov  workclass_ Private  workclass_ Self-emp-inc  \\\n",
              "0                   0.0                 1.0                      0.0   \n",
              "1                   0.0                 1.0                      0.0   \n",
              "2                   1.0                 0.0                      0.0   \n",
              "3                   0.0                 1.0                      0.0   \n",
              "4                   1.0                 0.0                      0.0   \n",
              "\n",
              "   workclass_ Self-emp-not-inc  workclass_ State-gov  workclass_ Without-pay  \\\n",
              "0                          0.0                   0.0                     0.0   \n",
              "1                          0.0                   0.0                     0.0   \n",
              "2                          0.0                   0.0                     0.0   \n",
              "3                          0.0                   0.0                     0.0   \n",
              "4                          0.0                   0.0                     0.0   \n",
              "\n",
              "   education_ 11th  education_ 12th  education_ 1st-4th  education_ 5th-6th  \\\n",
              "0              0.0              0.0                 0.0                 0.0   \n",
              "1              0.0              0.0                 0.0                 0.0   \n",
              "2              0.0              0.0                 0.0                 0.0   \n",
              "3              0.0              0.0                 0.0                 0.0   \n",
              "4              0.0              0.0                 0.0                 0.0   \n",
              "\n",
              "   ...  native_country_ Portugal  native_country_ Puerto-Rico  \\\n",
              "0  ...                       0.0                          0.0   \n",
              "1  ...                       0.0                          0.0   \n",
              "2  ...                       0.0                          0.0   \n",
              "3  ...                       0.0                          0.0   \n",
              "4  ...                       0.0                          0.0   \n",
              "\n",
              "   native_country_ Scotland  native_country_ South  native_country_ Taiwan  \\\n",
              "0                       0.0                    0.0                     0.0   \n",
              "1                       0.0                    0.0                     0.0   \n",
              "2                       0.0                    0.0                     0.0   \n",
              "3                       0.0                    0.0                     0.0   \n",
              "4                       0.0                    0.0                     0.0   \n",
              "\n",
              "   native_country_ Thailand  native_country_ Trinadad&Tobago  \\\n",
              "0                       0.0                              0.0   \n",
              "1                       0.0                              0.0   \n",
              "2                       0.0                              0.0   \n",
              "3                       0.0                              0.0   \n",
              "4                       0.0                              0.0   \n",
              "\n",
              "   native_country_ United-States  native_country_ Vietnam  \\\n",
              "0                            1.0                      0.0   \n",
              "1                            1.0                      0.0   \n",
              "2                            1.0                      0.0   \n",
              "3                            1.0                      0.0   \n",
              "4                            1.0                      0.0   \n",
              "\n",
              "   native_country_ Yugoslavia  \n",
              "0                         0.0  \n",
              "1                         0.0  \n",
              "2                         0.0  \n",
              "3                         0.0  \n",
              "4                         0.0  \n",
              "\n",
              "[5 rows x 90 columns]"
            ]
          },
          "execution_count": 822,
          "metadata": {},
          "output_type": "execute_result"
        }
      ],
      "source": [
        "X_train_encoded.head()"
      ]
    },
    {
      "cell_type": "code",
      "execution_count": 823,
      "metadata": {
        "colab": {
          "base_uri": "https://localhost:8080/"
        },
        "id": "1l-uHKvHrYXN",
        "outputId": "8991a39a-794b-4422-dc95-95a5ce9c0aa8"
      },
      "outputs": [
        {
          "data": {
            "text/html": [
              "<div>\n",
              "<style scoped>\n",
              "    .dataframe tbody tr th:only-of-type {\n",
              "        vertical-align: middle;\n",
              "    }\n",
              "\n",
              "    .dataframe tbody tr th {\n",
              "        vertical-align: top;\n",
              "    }\n",
              "\n",
              "    .dataframe thead th {\n",
              "        text-align: right;\n",
              "    }\n",
              "</style>\n",
              "<table border=\"1\" class=\"dataframe\">\n",
              "  <thead>\n",
              "    <tr style=\"text-align: right;\">\n",
              "      <th></th>\n",
              "      <th>workclass_ Local-gov</th>\n",
              "      <th>workclass_ Private</th>\n",
              "      <th>workclass_ Self-emp-inc</th>\n",
              "      <th>workclass_ Self-emp-not-inc</th>\n",
              "      <th>workclass_ State-gov</th>\n",
              "      <th>workclass_ Without-pay</th>\n",
              "      <th>education_ 11th</th>\n",
              "      <th>education_ 12th</th>\n",
              "      <th>education_ 1st-4th</th>\n",
              "      <th>education_ 5th-6th</th>\n",
              "      <th>...</th>\n",
              "      <th>native_country_ Portugal</th>\n",
              "      <th>native_country_ Puerto-Rico</th>\n",
              "      <th>native_country_ Scotland</th>\n",
              "      <th>native_country_ South</th>\n",
              "      <th>native_country_ Taiwan</th>\n",
              "      <th>native_country_ Thailand</th>\n",
              "      <th>native_country_ Trinadad&amp;Tobago</th>\n",
              "      <th>native_country_ United-States</th>\n",
              "      <th>native_country_ Vietnam</th>\n",
              "      <th>native_country_ Yugoslavia</th>\n",
              "    </tr>\n",
              "  </thead>\n",
              "  <tbody>\n",
              "    <tr>\n",
              "      <th>0</th>\n",
              "      <td>0.0</td>\n",
              "      <td>1.0</td>\n",
              "      <td>0.0</td>\n",
              "      <td>0.0</td>\n",
              "      <td>0.0</td>\n",
              "      <td>0.0</td>\n",
              "      <td>0.0</td>\n",
              "      <td>0.0</td>\n",
              "      <td>0.0</td>\n",
              "      <td>0.0</td>\n",
              "      <td>...</td>\n",
              "      <td>0.0</td>\n",
              "      <td>0.0</td>\n",
              "      <td>0.0</td>\n",
              "      <td>0.0</td>\n",
              "      <td>0.0</td>\n",
              "      <td>0.0</td>\n",
              "      <td>0.0</td>\n",
              "      <td>1.0</td>\n",
              "      <td>0.0</td>\n",
              "      <td>0.0</td>\n",
              "    </tr>\n",
              "    <tr>\n",
              "      <th>1</th>\n",
              "      <td>0.0</td>\n",
              "      <td>1.0</td>\n",
              "      <td>0.0</td>\n",
              "      <td>0.0</td>\n",
              "      <td>0.0</td>\n",
              "      <td>0.0</td>\n",
              "      <td>0.0</td>\n",
              "      <td>0.0</td>\n",
              "      <td>0.0</td>\n",
              "      <td>0.0</td>\n",
              "      <td>...</td>\n",
              "      <td>0.0</td>\n",
              "      <td>0.0</td>\n",
              "      <td>0.0</td>\n",
              "      <td>0.0</td>\n",
              "      <td>0.0</td>\n",
              "      <td>0.0</td>\n",
              "      <td>0.0</td>\n",
              "      <td>1.0</td>\n",
              "      <td>0.0</td>\n",
              "      <td>0.0</td>\n",
              "    </tr>\n",
              "    <tr>\n",
              "      <th>2</th>\n",
              "      <td>0.0</td>\n",
              "      <td>1.0</td>\n",
              "      <td>0.0</td>\n",
              "      <td>0.0</td>\n",
              "      <td>0.0</td>\n",
              "      <td>0.0</td>\n",
              "      <td>0.0</td>\n",
              "      <td>0.0</td>\n",
              "      <td>0.0</td>\n",
              "      <td>0.0</td>\n",
              "      <td>...</td>\n",
              "      <td>0.0</td>\n",
              "      <td>0.0</td>\n",
              "      <td>0.0</td>\n",
              "      <td>0.0</td>\n",
              "      <td>0.0</td>\n",
              "      <td>0.0</td>\n",
              "      <td>0.0</td>\n",
              "      <td>1.0</td>\n",
              "      <td>0.0</td>\n",
              "      <td>0.0</td>\n",
              "    </tr>\n",
              "    <tr>\n",
              "      <th>3</th>\n",
              "      <td>0.0</td>\n",
              "      <td>0.0</td>\n",
              "      <td>0.0</td>\n",
              "      <td>1.0</td>\n",
              "      <td>0.0</td>\n",
              "      <td>0.0</td>\n",
              "      <td>0.0</td>\n",
              "      <td>0.0</td>\n",
              "      <td>0.0</td>\n",
              "      <td>0.0</td>\n",
              "      <td>...</td>\n",
              "      <td>0.0</td>\n",
              "      <td>0.0</td>\n",
              "      <td>0.0</td>\n",
              "      <td>0.0</td>\n",
              "      <td>0.0</td>\n",
              "      <td>0.0</td>\n",
              "      <td>0.0</td>\n",
              "      <td>1.0</td>\n",
              "      <td>0.0</td>\n",
              "      <td>0.0</td>\n",
              "    </tr>\n",
              "    <tr>\n",
              "      <th>4</th>\n",
              "      <td>0.0</td>\n",
              "      <td>0.0</td>\n",
              "      <td>0.0</td>\n",
              "      <td>1.0</td>\n",
              "      <td>0.0</td>\n",
              "      <td>0.0</td>\n",
              "      <td>0.0</td>\n",
              "      <td>0.0</td>\n",
              "      <td>0.0</td>\n",
              "      <td>0.0</td>\n",
              "      <td>...</td>\n",
              "      <td>0.0</td>\n",
              "      <td>0.0</td>\n",
              "      <td>0.0</td>\n",
              "      <td>0.0</td>\n",
              "      <td>0.0</td>\n",
              "      <td>0.0</td>\n",
              "      <td>0.0</td>\n",
              "      <td>0.0</td>\n",
              "      <td>0.0</td>\n",
              "      <td>0.0</td>\n",
              "    </tr>\n",
              "  </tbody>\n",
              "</table>\n",
              "<p>5 rows × 90 columns</p>\n",
              "</div>"
            ],
            "text/plain": [
              "   workclass_ Local-gov  workclass_ Private  workclass_ Self-emp-inc  \\\n",
              "0                   0.0                 1.0                      0.0   \n",
              "1                   0.0                 1.0                      0.0   \n",
              "2                   0.0                 1.0                      0.0   \n",
              "3                   0.0                 0.0                      0.0   \n",
              "4                   0.0                 0.0                      0.0   \n",
              "\n",
              "   workclass_ Self-emp-not-inc  workclass_ State-gov  workclass_ Without-pay  \\\n",
              "0                          0.0                   0.0                     0.0   \n",
              "1                          0.0                   0.0                     0.0   \n",
              "2                          0.0                   0.0                     0.0   \n",
              "3                          1.0                   0.0                     0.0   \n",
              "4                          1.0                   0.0                     0.0   \n",
              "\n",
              "   education_ 11th  education_ 12th  education_ 1st-4th  education_ 5th-6th  \\\n",
              "0              0.0              0.0                 0.0                 0.0   \n",
              "1              0.0              0.0                 0.0                 0.0   \n",
              "2              0.0              0.0                 0.0                 0.0   \n",
              "3              0.0              0.0                 0.0                 0.0   \n",
              "4              0.0              0.0                 0.0                 0.0   \n",
              "\n",
              "   ...  native_country_ Portugal  native_country_ Puerto-Rico  \\\n",
              "0  ...                       0.0                          0.0   \n",
              "1  ...                       0.0                          0.0   \n",
              "2  ...                       0.0                          0.0   \n",
              "3  ...                       0.0                          0.0   \n",
              "4  ...                       0.0                          0.0   \n",
              "\n",
              "   native_country_ Scotland  native_country_ South  native_country_ Taiwan  \\\n",
              "0                       0.0                    0.0                     0.0   \n",
              "1                       0.0                    0.0                     0.0   \n",
              "2                       0.0                    0.0                     0.0   \n",
              "3                       0.0                    0.0                     0.0   \n",
              "4                       0.0                    0.0                     0.0   \n",
              "\n",
              "   native_country_ Thailand  native_country_ Trinadad&Tobago  \\\n",
              "0                       0.0                              0.0   \n",
              "1                       0.0                              0.0   \n",
              "2                       0.0                              0.0   \n",
              "3                       0.0                              0.0   \n",
              "4                       0.0                              0.0   \n",
              "\n",
              "   native_country_ United-States  native_country_ Vietnam  \\\n",
              "0                            1.0                      0.0   \n",
              "1                            1.0                      0.0   \n",
              "2                            1.0                      0.0   \n",
              "3                            1.0                      0.0   \n",
              "4                            0.0                      0.0   \n",
              "\n",
              "   native_country_ Yugoslavia  \n",
              "0                         0.0  \n",
              "1                         0.0  \n",
              "2                         0.0  \n",
              "3                         0.0  \n",
              "4                         0.0  \n",
              "\n",
              "[5 rows x 90 columns]"
            ]
          },
          "execution_count": 823,
          "metadata": {},
          "output_type": "execute_result"
        }
      ],
      "source": [
        "X_test_encoded.head()"
      ]
    },
    {
      "cell_type": "code",
      "execution_count": 824,
      "metadata": {
        "colab": {
          "base_uri": "https://localhost:8080/",
          "height": 255
        },
        "id": "OtL29LaSraWm",
        "outputId": "90a5eb47-b510-448c-e019-6c7e561f3b6a"
      },
      "outputs": [
        {
          "data": {
            "text/html": [
              "<div>\n",
              "<style scoped>\n",
              "    .dataframe tbody tr th:only-of-type {\n",
              "        vertical-align: middle;\n",
              "    }\n",
              "\n",
              "    .dataframe tbody tr th {\n",
              "        vertical-align: top;\n",
              "    }\n",
              "\n",
              "    .dataframe thead th {\n",
              "        text-align: right;\n",
              "    }\n",
              "</style>\n",
              "<table border=\"1\" class=\"dataframe\">\n",
              "  <thead>\n",
              "    <tr style=\"text-align: right;\">\n",
              "      <th></th>\n",
              "      <th>age</th>\n",
              "      <th>fnlwgt</th>\n",
              "      <th>education_num</th>\n",
              "      <th>capital_gain</th>\n",
              "      <th>capital_loss</th>\n",
              "      <th>hours_per_week</th>\n",
              "      <th>workclass_ Local-gov</th>\n",
              "      <th>workclass_ Private</th>\n",
              "      <th>workclass_ Self-emp-inc</th>\n",
              "      <th>workclass_ Self-emp-not-inc</th>\n",
              "      <th>...</th>\n",
              "      <th>native_country_ Portugal</th>\n",
              "      <th>native_country_ Puerto-Rico</th>\n",
              "      <th>native_country_ Scotland</th>\n",
              "      <th>native_country_ South</th>\n",
              "      <th>native_country_ Taiwan</th>\n",
              "      <th>native_country_ Thailand</th>\n",
              "      <th>native_country_ Trinadad&amp;Tobago</th>\n",
              "      <th>native_country_ United-States</th>\n",
              "      <th>native_country_ Vietnam</th>\n",
              "      <th>native_country_ Yugoslavia</th>\n",
              "    </tr>\n",
              "  </thead>\n",
              "  <tbody>\n",
              "    <tr>\n",
              "      <th>0</th>\n",
              "      <td>44</td>\n",
              "      <td>81853</td>\n",
              "      <td>9</td>\n",
              "      <td>0</td>\n",
              "      <td>0</td>\n",
              "      <td>40</td>\n",
              "      <td>0.0</td>\n",
              "      <td>1.0</td>\n",
              "      <td>0.0</td>\n",
              "      <td>0.0</td>\n",
              "      <td>...</td>\n",
              "      <td>0.0</td>\n",
              "      <td>0.0</td>\n",
              "      <td>0.0</td>\n",
              "      <td>0.0</td>\n",
              "      <td>0.0</td>\n",
              "      <td>0.0</td>\n",
              "      <td>0.0</td>\n",
              "      <td>1.0</td>\n",
              "      <td>0.0</td>\n",
              "      <td>0.0</td>\n",
              "    </tr>\n",
              "    <tr>\n",
              "      <th>1</th>\n",
              "      <td>21</td>\n",
              "      <td>306114</td>\n",
              "      <td>10</td>\n",
              "      <td>0</td>\n",
              "      <td>0</td>\n",
              "      <td>20</td>\n",
              "      <td>0.0</td>\n",
              "      <td>1.0</td>\n",
              "      <td>0.0</td>\n",
              "      <td>0.0</td>\n",
              "      <td>...</td>\n",
              "      <td>0.0</td>\n",
              "      <td>0.0</td>\n",
              "      <td>0.0</td>\n",
              "      <td>0.0</td>\n",
              "      <td>0.0</td>\n",
              "      <td>0.0</td>\n",
              "      <td>0.0</td>\n",
              "      <td>1.0</td>\n",
              "      <td>0.0</td>\n",
              "      <td>0.0</td>\n",
              "    </tr>\n",
              "    <tr>\n",
              "      <th>2</th>\n",
              "      <td>36</td>\n",
              "      <td>186110</td>\n",
              "      <td>10</td>\n",
              "      <td>0</td>\n",
              "      <td>0</td>\n",
              "      <td>40</td>\n",
              "      <td>0.0</td>\n",
              "      <td>1.0</td>\n",
              "      <td>0.0</td>\n",
              "      <td>0.0</td>\n",
              "      <td>...</td>\n",
              "      <td>0.0</td>\n",
              "      <td>0.0</td>\n",
              "      <td>0.0</td>\n",
              "      <td>0.0</td>\n",
              "      <td>0.0</td>\n",
              "      <td>0.0</td>\n",
              "      <td>0.0</td>\n",
              "      <td>1.0</td>\n",
              "      <td>0.0</td>\n",
              "      <td>0.0</td>\n",
              "    </tr>\n",
              "    <tr>\n",
              "      <th>3</th>\n",
              "      <td>30</td>\n",
              "      <td>45427</td>\n",
              "      <td>11</td>\n",
              "      <td>0</td>\n",
              "      <td>0</td>\n",
              "      <td>49</td>\n",
              "      <td>0.0</td>\n",
              "      <td>0.0</td>\n",
              "      <td>0.0</td>\n",
              "      <td>1.0</td>\n",
              "      <td>...</td>\n",
              "      <td>0.0</td>\n",
              "      <td>0.0</td>\n",
              "      <td>0.0</td>\n",
              "      <td>0.0</td>\n",
              "      <td>0.0</td>\n",
              "      <td>0.0</td>\n",
              "      <td>0.0</td>\n",
              "      <td>1.0</td>\n",
              "      <td>0.0</td>\n",
              "      <td>0.0</td>\n",
              "    </tr>\n",
              "    <tr>\n",
              "      <th>4</th>\n",
              "      <td>42</td>\n",
              "      <td>133584</td>\n",
              "      <td>10</td>\n",
              "      <td>0</td>\n",
              "      <td>0</td>\n",
              "      <td>40</td>\n",
              "      <td>0.0</td>\n",
              "      <td>0.0</td>\n",
              "      <td>0.0</td>\n",
              "      <td>1.0</td>\n",
              "      <td>...</td>\n",
              "      <td>0.0</td>\n",
              "      <td>0.0</td>\n",
              "      <td>0.0</td>\n",
              "      <td>0.0</td>\n",
              "      <td>0.0</td>\n",
              "      <td>0.0</td>\n",
              "      <td>0.0</td>\n",
              "      <td>0.0</td>\n",
              "      <td>0.0</td>\n",
              "      <td>0.0</td>\n",
              "    </tr>\n",
              "    <tr>\n",
              "      <th>...</th>\n",
              "      <td>...</td>\n",
              "      <td>...</td>\n",
              "      <td>...</td>\n",
              "      <td>...</td>\n",
              "      <td>...</td>\n",
              "      <td>...</td>\n",
              "      <td>...</td>\n",
              "      <td>...</td>\n",
              "      <td>...</td>\n",
              "      <td>...</td>\n",
              "      <td>...</td>\n",
              "      <td>...</td>\n",
              "      <td>...</td>\n",
              "      <td>...</td>\n",
              "      <td>...</td>\n",
              "      <td>...</td>\n",
              "      <td>...</td>\n",
              "      <td>...</td>\n",
              "      <td>...</td>\n",
              "      <td>...</td>\n",
              "      <td>...</td>\n",
              "    </tr>\n",
              "    <tr>\n",
              "      <th>9044</th>\n",
              "      <td>27</td>\n",
              "      <td>218785</td>\n",
              "      <td>9</td>\n",
              "      <td>0</td>\n",
              "      <td>0</td>\n",
              "      <td>40</td>\n",
              "      <td>0.0</td>\n",
              "      <td>1.0</td>\n",
              "      <td>0.0</td>\n",
              "      <td>0.0</td>\n",
              "      <td>...</td>\n",
              "      <td>0.0</td>\n",
              "      <td>0.0</td>\n",
              "      <td>0.0</td>\n",
              "      <td>0.0</td>\n",
              "      <td>0.0</td>\n",
              "      <td>0.0</td>\n",
              "      <td>0.0</td>\n",
              "      <td>1.0</td>\n",
              "      <td>0.0</td>\n",
              "      <td>0.0</td>\n",
              "    </tr>\n",
              "    <tr>\n",
              "      <th>9045</th>\n",
              "      <td>54</td>\n",
              "      <td>36327</td>\n",
              "      <td>4</td>\n",
              "      <td>0</td>\n",
              "      <td>0</td>\n",
              "      <td>50</td>\n",
              "      <td>0.0</td>\n",
              "      <td>0.0</td>\n",
              "      <td>0.0</td>\n",
              "      <td>1.0</td>\n",
              "      <td>...</td>\n",
              "      <td>0.0</td>\n",
              "      <td>0.0</td>\n",
              "      <td>0.0</td>\n",
              "      <td>0.0</td>\n",
              "      <td>0.0</td>\n",
              "      <td>0.0</td>\n",
              "      <td>0.0</td>\n",
              "      <td>1.0</td>\n",
              "      <td>0.0</td>\n",
              "      <td>0.0</td>\n",
              "    </tr>\n",
              "    <tr>\n",
              "      <th>9046</th>\n",
              "      <td>53</td>\n",
              "      <td>149650</td>\n",
              "      <td>9</td>\n",
              "      <td>0</td>\n",
              "      <td>2559</td>\n",
              "      <td>48</td>\n",
              "      <td>0.0</td>\n",
              "      <td>1.0</td>\n",
              "      <td>0.0</td>\n",
              "      <td>0.0</td>\n",
              "      <td>...</td>\n",
              "      <td>0.0</td>\n",
              "      <td>0.0</td>\n",
              "      <td>0.0</td>\n",
              "      <td>0.0</td>\n",
              "      <td>0.0</td>\n",
              "      <td>0.0</td>\n",
              "      <td>0.0</td>\n",
              "      <td>1.0</td>\n",
              "      <td>0.0</td>\n",
              "      <td>0.0</td>\n",
              "    </tr>\n",
              "    <tr>\n",
              "      <th>9047</th>\n",
              "      <td>18</td>\n",
              "      <td>177722</td>\n",
              "      <td>9</td>\n",
              "      <td>0</td>\n",
              "      <td>0</td>\n",
              "      <td>20</td>\n",
              "      <td>0.0</td>\n",
              "      <td>1.0</td>\n",
              "      <td>0.0</td>\n",
              "      <td>0.0</td>\n",
              "      <td>...</td>\n",
              "      <td>0.0</td>\n",
              "      <td>0.0</td>\n",
              "      <td>0.0</td>\n",
              "      <td>0.0</td>\n",
              "      <td>0.0</td>\n",
              "      <td>0.0</td>\n",
              "      <td>0.0</td>\n",
              "      <td>1.0</td>\n",
              "      <td>0.0</td>\n",
              "      <td>0.0</td>\n",
              "    </tr>\n",
              "    <tr>\n",
              "      <th>9048</th>\n",
              "      <td>24</td>\n",
              "      <td>375313</td>\n",
              "      <td>10</td>\n",
              "      <td>0</td>\n",
              "      <td>0</td>\n",
              "      <td>40</td>\n",
              "      <td>0.0</td>\n",
              "      <td>0.0</td>\n",
              "      <td>0.0</td>\n",
              "      <td>1.0</td>\n",
              "      <td>...</td>\n",
              "      <td>0.0</td>\n",
              "      <td>0.0</td>\n",
              "      <td>0.0</td>\n",
              "      <td>0.0</td>\n",
              "      <td>0.0</td>\n",
              "      <td>0.0</td>\n",
              "      <td>0.0</td>\n",
              "      <td>1.0</td>\n",
              "      <td>0.0</td>\n",
              "      <td>0.0</td>\n",
              "    </tr>\n",
              "  </tbody>\n",
              "</table>\n",
              "<p>9049 rows × 96 columns</p>\n",
              "</div>"
            ],
            "text/plain": [
              "      age  fnlwgt  education_num  capital_gain  capital_loss  hours_per_week  \\\n",
              "0      44   81853              9             0             0              40   \n",
              "1      21  306114             10             0             0              20   \n",
              "2      36  186110             10             0             0              40   \n",
              "3      30   45427             11             0             0              49   \n",
              "4      42  133584             10             0             0              40   \n",
              "...   ...     ...            ...           ...           ...             ...   \n",
              "9044   27  218785              9             0             0              40   \n",
              "9045   54   36327              4             0             0              50   \n",
              "9046   53  149650              9             0          2559              48   \n",
              "9047   18  177722              9             0             0              20   \n",
              "9048   24  375313             10             0             0              40   \n",
              "\n",
              "      workclass_ Local-gov  workclass_ Private  workclass_ Self-emp-inc  \\\n",
              "0                      0.0                 1.0                      0.0   \n",
              "1                      0.0                 1.0                      0.0   \n",
              "2                      0.0                 1.0                      0.0   \n",
              "3                      0.0                 0.0                      0.0   \n",
              "4                      0.0                 0.0                      0.0   \n",
              "...                    ...                 ...                      ...   \n",
              "9044                   0.0                 1.0                      0.0   \n",
              "9045                   0.0                 0.0                      0.0   \n",
              "9046                   0.0                 1.0                      0.0   \n",
              "9047                   0.0                 1.0                      0.0   \n",
              "9048                   0.0                 0.0                      0.0   \n",
              "\n",
              "      workclass_ Self-emp-not-inc  ...  native_country_ Portugal  \\\n",
              "0                             0.0  ...                       0.0   \n",
              "1                             0.0  ...                       0.0   \n",
              "2                             0.0  ...                       0.0   \n",
              "3                             1.0  ...                       0.0   \n",
              "4                             1.0  ...                       0.0   \n",
              "...                           ...  ...                       ...   \n",
              "9044                          0.0  ...                       0.0   \n",
              "9045                          1.0  ...                       0.0   \n",
              "9046                          0.0  ...                       0.0   \n",
              "9047                          0.0  ...                       0.0   \n",
              "9048                          1.0  ...                       0.0   \n",
              "\n",
              "      native_country_ Puerto-Rico  native_country_ Scotland  \\\n",
              "0                             0.0                       0.0   \n",
              "1                             0.0                       0.0   \n",
              "2                             0.0                       0.0   \n",
              "3                             0.0                       0.0   \n",
              "4                             0.0                       0.0   \n",
              "...                           ...                       ...   \n",
              "9044                          0.0                       0.0   \n",
              "9045                          0.0                       0.0   \n",
              "9046                          0.0                       0.0   \n",
              "9047                          0.0                       0.0   \n",
              "9048                          0.0                       0.0   \n",
              "\n",
              "      native_country_ South  native_country_ Taiwan  native_country_ Thailand  \\\n",
              "0                       0.0                     0.0                       0.0   \n",
              "1                       0.0                     0.0                       0.0   \n",
              "2                       0.0                     0.0                       0.0   \n",
              "3                       0.0                     0.0                       0.0   \n",
              "4                       0.0                     0.0                       0.0   \n",
              "...                     ...                     ...                       ...   \n",
              "9044                    0.0                     0.0                       0.0   \n",
              "9045                    0.0                     0.0                       0.0   \n",
              "9046                    0.0                     0.0                       0.0   \n",
              "9047                    0.0                     0.0                       0.0   \n",
              "9048                    0.0                     0.0                       0.0   \n",
              "\n",
              "      native_country_ Trinadad&Tobago  native_country_ United-States  \\\n",
              "0                                 0.0                            1.0   \n",
              "1                                 0.0                            1.0   \n",
              "2                                 0.0                            1.0   \n",
              "3                                 0.0                            1.0   \n",
              "4                                 0.0                            0.0   \n",
              "...                               ...                            ...   \n",
              "9044                              0.0                            1.0   \n",
              "9045                              0.0                            1.0   \n",
              "9046                              0.0                            1.0   \n",
              "9047                              0.0                            1.0   \n",
              "9048                              0.0                            1.0   \n",
              "\n",
              "      native_country_ Vietnam  native_country_ Yugoslavia  \n",
              "0                         0.0                         0.0  \n",
              "1                         0.0                         0.0  \n",
              "2                         0.0                         0.0  \n",
              "3                         0.0                         0.0  \n",
              "4                         0.0                         0.0  \n",
              "...                       ...                         ...  \n",
              "9044                      0.0                         0.0  \n",
              "9045                      0.0                         0.0  \n",
              "9046                      0.0                         0.0  \n",
              "9047                      0.0                         0.0  \n",
              "9048                      0.0                         0.0  \n",
              "\n",
              "[9049 rows x 96 columns]"
            ]
          },
          "execution_count": 824,
          "metadata": {},
          "output_type": "execute_result"
        }
      ],
      "source": [
        "X_test"
      ]
    },
    {
      "cell_type": "code",
      "execution_count": 825,
      "metadata": {
        "colab": {
          "base_uri": "https://localhost:8080/"
        },
        "id": "Ypx3mjMXrceK",
        "outputId": "ffc3cde5-fa20-4c48-e5ce-7891245af57d"
      },
      "outputs": [
        {
          "data": {
            "text/plain": [
              "(9049, 96)"
            ]
          },
          "execution_count": 825,
          "metadata": {},
          "output_type": "execute_result"
        }
      ],
      "source": [
        "X_test.shape"
      ]
    },
    {
      "cell_type": "code",
      "execution_count": 826,
      "metadata": {
        "id": "b-QYdugBreVW"
      },
      "outputs": [],
      "source": [
        "# Chuẩn hóa dữ liệu\n",
        "numerical = [var for var in X_train.columns if X_train[var].dtype in [np.int64, np.float64]]\n",
        "scaler = RobustScaler()\n",
        "X_train[numerical] = scaler.fit_transform(X_train[numerical])\n",
        "X_test[numerical] = scaler.transform(X_test[numerical])"
      ]
    },
    {
      "cell_type": "markdown",
      "metadata": {
        "id": "UP_-gdFoKwYk"
      },
      "source": [
        "SỬ DỤNG MÔ HÌNH RAMDOM FORET"
      ]
    },
    {
      "cell_type": "code",
      "execution_count": 827,
      "metadata": {
        "colab": {
          "base_uri": "https://localhost:8080/"
        },
        "id": "Curp_ebHsI4C",
        "outputId": "08bd1492-e075-44a3-9b9c-29f1d2630509"
      },
      "outputs": [
        {
          "name": "stdout",
          "output_type": "stream",
          "text": [
            "Điểm độ chính xác của mô hình với 10 cây quyết định là: 0.8431\n"
          ]
        }
      ],
      "source": [
        "from sklearn.ensemble import RandomForestClassifier\n",
        "\n",
        "# Khởi tạo bộ phân loại Random Forest với giá trị random_state là 0 để tái tạo kết quả\n",
        "rfc = RandomForestClassifier(random_state=0)\n",
        "\n",
        "# Huấn luyện mô hình với tập dữ liệu huấn luyện X_train và y_train\n",
        "rfc.fit(X_train, y_train)\n",
        "\n",
        "# Dự đoán kết quả trên tập kiểm tra X_test\n",
        "y_pred = rfc.predict(X_test)\n",
        "\n",
        "# Nhập accuracy_score từ thư viện sklearn.metrics để tính điểm độ chính xác\n",
        "from sklearn.metrics import accuracy_score\n",
        "\n",
        "# In ra điểm độ chính xác của mô hình\n",
        "print('Điểm độ chính xác của mô hình với 10 cây quyết định là: {0:0.4f}'.format(accuracy_score(y_test, y_pred)))\n"
      ]
    },
    {
      "cell_type": "code",
      "execution_count": 828,
      "metadata": {
        "colab": {
          "base_uri": "https://localhost:8080/"
        },
        "id": "yqEreH9AsLMq",
        "outputId": "536c0a95-1d36-4b20-e1a5-3bfe12fb10cb"
      },
      "outputs": [
        {
          "name": "stdout",
          "output_type": "stream",
          "text": [
            "Điểm độ chính xác của mô hình với 100 cây quyết định là: 0.8431\n"
          ]
        }
      ],
      "source": [
        "# Khởi tạo bộ phân loại Random Forest với 100 cây quyết định và giá trị random_state là 0\n",
        "rfc_100 = RandomForestClassifier(n_estimators=100, random_state=0)\n",
        "\n",
        "# Huấn luyện mô hình với tập dữ liệu huấn luyện X_train và y_train\n",
        "rfc_100.fit(X_train, y_train)\n",
        "\n",
        "# Dự đoán kết quả trên tập kiểm tra X_test\n",
        "y_pred_100 = rfc_100.predict(X_test)\n",
        "\n",
        "# In ra điểm độ chính xác của mô hình với 100 cây quyết định\n",
        "print('Điểm độ chính xác của mô hình với 100 cây quyết định là: {0:0.4f}'.format(accuracy_score(y_test, y_pred_100)))\n"
      ]
    },
    {
      "cell_type": "code",
      "execution_count": 829,
      "metadata": {
        "colab": {
          "base_uri": "https://localhost:8080/"
        },
        "id": "g9PY9U9EsTtk",
        "outputId": "f46c7cbc-37b0-4b91-a351-d81a9fc9d6c8"
      },
      "outputs": [
        {
          "name": "stdout",
          "output_type": "stream",
          "text": [
            "Ma trận nhầm lẫn\n",
            "\n",
            " [[6222  542]\n",
            " [ 878 1407]]\n"
          ]
        }
      ],
      "source": [
        "# In ra ma trận nhầm lẫn và cắt nó thành bốn phần\n",
        "\n",
        "from sklearn.metrics import confusion_matrix\n",
        "\n",
        "# Tính toán ma trận nhầm lẫn giữa giá trị thực tế y_test và giá trị dự đoán y_pred\n",
        "cm = confusion_matrix(y_test, y_pred)\n",
        "\n",
        "# In ra ma trận nhầm lẫn\n",
        "print('Ma trận nhầm lẫn\\n\\n', cm)\n"
      ]
    },
    {
      "cell_type": "code",
      "execution_count": 830,
      "metadata": {
        "colab": {
          "base_uri": "https://localhost:8080/",
          "height": 447
        },
        "id": "RbSeTDw3zo-Y",
        "outputId": "e427dd90-4b8f-4edd-a373-5d0fc33b8b6e"
      },
      "outputs": [
        {
          "data": {
            "text/plain": [
              "<Axes: >"
            ]
          },
          "execution_count": 830,
          "metadata": {},
          "output_type": "execute_result"
        },
        {
          "data": {
            "image/png": "[encoded data removed]",
            "text/plain": [
              "<Figure size 640x480 with 2 Axes>"
            ]
          },
          "metadata": {},
          "output_type": "display_data"
        }
      ],
      "source": [
        "# visualize confusion matrix with seaborn heatmap\n",
        "\n",
        "cm_matrix = pd.DataFrame(data=cm, columns=['Actual Positive:1', 'Actual Negative:0'],\n",
        "                                 index=['Predict Positive:1', 'Predict Negative:0'])\n",
        "\n",
        "sns.heatmap(cm_matrix, annot=True, fmt='d', cmap='YlGnBu')"
      ]
    },
    {
      "cell_type": "code",
      "execution_count": 831,
      "metadata": {},
      "outputs": [],
      "source": [
        "import pickle\n",
        "import pandas as pd\n",
        "from sklearn.ensemble import RandomForestClassifier\n",
        "\n",
        "# Giả sử bạn đã có X_train và y_train\n",
        "\n",
        "# Huấn luyện mô hình\n",
        "model = RandomForestClassifier()\n",
        "model.fit(X_train, y_train)\n",
        "\n",
        "# Lưu mô hình\n",
        "with open('random_forest_model.pkl', 'wb') as file:\n",
        "    pickle.dump(model, file)\n",
        "\n",
        "# Lưu tên các cột đã được mã hóa\n",
        "encoded_columns = X_train.columns.tolist()\n",
        "with open('encoded_columns.pkl', 'wb') as file:\n",
        "    pickle.dump(encoded_columns, file)"
      ]
    },
    {
      "cell_type": "code",
      "execution_count": 832,
      "metadata": {
        "id": "fTL2koXvzq8i"
      },
      "outputs": [],
      "source": [
        "import pickle\n",
        "\n",
        "# Lưu mô hình vào file 'model.pkl'\n",
        "with open('model.pkl', 'wb') as file:\n",
        "    pickle.dump(rfc, file)  # Sử dụng mô hình đã huấn luyện (ví dụ: dtr)\n"
      ]
    },
    {
      "cell_type": "code",
      "execution_count": 833,
      "metadata": {
        "id": "55s_ytpQOmL1"
      },
      "outputs": [],
      "source": [
        "import pickle\n",
        "\n",
        "# Lưu mô hình vào file 'model.pkl'\n",
        "with open('model1.pkl', 'wb') as file:\n",
        "    pickle.dump(rfc_100, file)  # Sử dụng mô hình đã huấn luyện (ví dụ: dtr)"
      ]
    }
  ],
  "metadata": {
    "colab": {
      "provenance": []
    },
    "kernelspec": {
      "display_name": ".venv",
      "language": "python",
      "name": "python3"
    },
    "language_info": {
      "codemirror_mode": {
        "name": "ipython",
        "version": 3
      },
      "file_extension": ".py",
      "mimetype": "text/x-python",
      "name": "python",
      "nbconvert_exporter": "python",
      "pygments_lexer": "ipython3",
      "version": "3.12.4"
    }
  },
  "nbformat": 4,
  "nbformat_minor": 0
}
